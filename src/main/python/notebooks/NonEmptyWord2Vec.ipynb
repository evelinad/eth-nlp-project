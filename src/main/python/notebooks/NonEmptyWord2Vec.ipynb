{
 "cells": [
  {
   "cell_type": "code",
   "execution_count": 1,
   "metadata": {
    "collapsed": true
   },
   "outputs": [],
   "source": [
    "import pickle\n",
    "import gensim\n",
    "import numpy as np\n",
    "from stop_words import get_stop_words"
   ]
  },
  {
   "cell_type": "code",
   "execution_count": 2,
   "metadata": {
    "collapsed": true
   },
   "outputs": [],
   "source": [
    "word2vecFile = \"../../../../data/word2vec/GoogleNews-vectors-negative300.bin\"\n",
    "csv_file_name_train = \"../../../../data/train_queries.csv\"\n",
    "csv_file_name_test = \"../../../../data/valid_queries.csv\""
   ]
  },
  {
   "cell_type": "code",
   "execution_count": 3,
   "metadata": {
    "collapsed": false
   },
   "outputs": [],
   "source": [
    "# can take some time ...\n",
    "model = gensim.models.word2vec.Word2Vec.load_word2vec_format(word2vecFile, binary=True)\n",
    "stop_words = get_stop_words('en')"
   ]
  },
  {
   "cell_type": "code",
   "execution_count": 9,
   "metadata": {
    "collapsed": false
   },
   "outputs": [],
   "source": [
    "def load_training_data(csv_file_name, undersample=False):\n",
    "    \"\"\"Loads a CSV file produced by the Java feature generator.\"\"\"\n",
    "    X_raw = []\n",
    "    y_raw = []\n",
    "    with open(csv_file_name, 'r') as f:\n",
    "        for line_number, line in enumerate(f.readlines()):\n",
    "            parts = line[:-1].split(\",\")\n",
    "            # label\n",
    "            y_raw.append(int(parts[0]))\n",
    "            # query string\n",
    "            query = parts[1].split(\" \")\n",
    "            if len(query) == 1 and parts[1] not in model:\n",
    "                if (separateString(parts[1]) is not None):\n",
    "                    query_temp = separateString(parts[1]).split(\" \")\n",
    "                    query = [word for word in query_temp if len(word)>2 and word not in stop_words]\n",
    "            X_raw.append(query)\n",
    "        X_raw = np.array(X_raw)\n",
    "        y_raw = np.array(y_raw)\n",
    "\n",
    "        print(\"Feature shape: {0}\".format(X_raw.shape))\n",
    "        print(\"Label shape: {0}\".format(y_raw.shape))\n",
    "        return X_raw, y_raw"
   ]
  },
  {
   "cell_type": "code",
   "execution_count": 4,
   "metadata": {
    "collapsed": false
   },
   "outputs": [],
   "source": [
    "def isWordInVocab(word):\n",
    "    if word in model:\n",
    "        return True\n",
    "    else:\n",
    "        return False\n",
    "    \n",
    "def isStopword(word):\n",
    "    if word in stop_words:\n",
    "        return True\n",
    "    else:\n",
    "        return False"
   ]
  },
  {
   "cell_type": "code",
   "execution_count": 5,
   "metadata": {
    "collapsed": false
   },
   "outputs": [],
   "source": [
    "import re\n",
    "\n",
    "def separateString(string):\n",
    "    words = []\n",
    "    input = string\n",
    "    clean = re.sub(\"[^\\d[a-z]]*\", \"\", string.lower().strip())\n",
    "    return seperateStringRec(clean, clean, words, clean)\n",
    "    \n",
    "def seperateStringRec(inp, clean, words,lastLarge=None):\n",
    "    # Index each character in the input string\n",
    "    for ind in range(len(inp)):\n",
    "        # Build a segment\n",
    "        built = partition(inp, ind)\n",
    "        # If only one letter remains, steal a letter from the previous match\n",
    "        if len(built) == 1:\n",
    "            if (len(words[-1])==0):\n",
    "                return None\n",
    "            built = words[-1][-1] + lastLarge\n",
    "            words[-1] = words[-1][0:-1]\n",
    "            return seperateStringRec(built,clean,words,lastLarge)\n",
    "        # Check if segment ends with a digit. Separate it if it does.\n",
    "        if re.match('\\d+$', built):\n",
    "            built = re.sub(\"([^\\d])\\d\", \"\", built)\n",
    "            words.append(built)\n",
    "            return seperateStringRec(inp.replace(built, '', 1),clean,words,lastLarge)\n",
    "        # It does not end with a digit\n",
    "        else:\n",
    "            if built in model:\n",
    "                words.append(built)\n",
    "                # Check if list of separations joined together is equal to original\n",
    "                if ''.join(words) == clean:\n",
    "                    return ' '.join(words)\n",
    "                else:\n",
    "                    # Loop back through to separate more\n",
    "                    lastLarge = inp.replace(built, '', 1)\n",
    "                    return seperateStringRec(inp.replace(built, '', 1),clean,words,lastLarge)\n",
    "\n",
    "def partition(value, index):\n",
    "    return value[0:len(value) - index]\n",
    "\n"
   ]
  },
  {
   "cell_type": "code",
   "execution_count": 27,
   "metadata": {
    "collapsed": false
   },
   "outputs": [
    {
     "name": "stdout",
     "output_type": "stream",
     "text": [
      "Feature shape: (497,)\n",
      "Label shape: (497,)\n",
      "Feature shape: (249,)\n",
      "Label shape: (249,)\n",
      "We have 51 positive labels in training set.\n",
      "We have 446 negative labels in training set.\n"
     ]
    }
   ],
   "source": [
    "X_train, y_train = load_training_data(csv_file_name_train,undersample=True)\n",
    "X_valid, y_valid = load_training_data(csv_file_name_test,undersample=True)\n",
    "\n",
    "\n",
    "train_pos = np.sum(y_train == 1)\n",
    "train_neg = len(y_train)-train_pos\n",
    "print(\"We have {0} positive labels in training set.\".format(train_pos))\n",
    "print(\"We have {0} negative labels in training set.\".format(train_neg))"
   ]
  },
  {
   "cell_type": "code",
   "execution_count": 28,
   "metadata": {
    "collapsed": false
   },
   "outputs": [
    {
     "name": "stdout",
     "output_type": "stream",
     "text": [
      "this metric would: \n",
      "classify 5 empty tweets as empty\n",
      "misclassify 3 empty tweets as empty\n"
     ]
    }
   ],
   "source": [
    "classify_empty_as_nonempty = classify_nonempty_as_nonempty = 0\n",
    "for i in range(len(y_train)):\n",
    "    if np.any([isWordInVocab(word) for word in X_train[i]]):\n",
    "        if y_train[i] == 1:\n",
    "            classify_empty_as_nonempty += 1\n",
    "            #print(\"mcAe: {0}\".format(X_train[i]))\n",
    "        else:\n",
    "            classify_nonempty_as_nonempty += 1\n",
    "    #else: \n",
    "    #    #if y_train[i] == 0:\n",
    "    #        #print(\"mcAn: {0}\".format(X_train[i]))        \n",
    "print(\"this metric would: \")\n",
    "print(\"classify {0} empty tweets as empty\".format(train_pos-classify_empty_as_nonempty))\n",
    "print(\"misclassify {0} empty tweets as empty\".format(train_neg-classify_nonempty_as_nonempty))\n",
    "    "
   ]
  },
  {
   "cell_type": "code",
   "execution_count": 29,
   "metadata": {
    "collapsed": false
   },
   "outputs": [],
   "source": [
    "train_file = open('../../../../data/altered_queries_train.csv', 'w+')\n",
    "for i in range(len(y_train)):\n",
    "    query_string = \" \".join(X_train[i])\n",
    "    if query_string == \"\":\n",
    "        query_string = \"sadljk\"\n",
    "    print(\"{0},{1}\\n\".format(y_train[i],query_string), file=train_file)"
   ]
  },
  {
   "cell_type": "code",
   "execution_count": 31,
   "metadata": {
    "collapsed": false
   },
   "outputs": [],
   "source": [
    "valid_file = open('../../../../data/altered_queries_valid.csv', 'w+')\n",
    "for i in range(len(y_valid)):\n",
    "    query_string = \" \".join(X_valid[i])\n",
    "    if query_string == \"\":\n",
    "        query_string = \"sadljk\"\n",
    "    print(\"{0},{1}\\n\".format(y_valid[i],query_string), file=valid_file)"
   ]
  },
  {
   "cell_type": "code",
   "execution_count": 32,
   "metadata": {
    "collapsed": false
   },
   "outputs": [
    {
     "ename": "KeyError",
     "evalue": "'saylor'",
     "output_type": "error",
     "traceback": [
      "\u001b[0;31m---------------------------------------------------------------------------\u001b[0m",
      "\u001b[0;31mKeyError\u001b[0m                                  Traceback (most recent call last)",
      "\u001b[0;32m<ipython-input-32-724d610f6092>\u001b[0m in \u001b[0;36m<module>\u001b[0;34m()\u001b[0m\n\u001b[0;32m----> 1\u001b[0;31m \u001b[0mmodel\u001b[0m\u001b[0;34m[\u001b[0m\u001b[0;34m'saylor'\u001b[0m\u001b[0;34m]\u001b[0m\u001b[0;34m\u001b[0m\u001b[0m\n\u001b[0m",
      "\u001b[0;32m/Library/Frameworks/Python.framework/Versions/3.5/lib/python3.5/site-packages/gensim/models/word2vec.py\u001b[0m in \u001b[0;36m__getitem__\u001b[0;34m(self, words)\u001b[0m\n\u001b[1;32m   1316\u001b[0m         \u001b[0;32mif\u001b[0m \u001b[0misinstance\u001b[0m\u001b[0;34m(\u001b[0m\u001b[0mwords\u001b[0m\u001b[0;34m,\u001b[0m \u001b[0mstring_types\u001b[0m\u001b[0;34m)\u001b[0m\u001b[0;34m:\u001b[0m\u001b[0;34m\u001b[0m\u001b[0m\n\u001b[1;32m   1317\u001b[0m             \u001b[0;31m# allow calls like trained_model['office'], as a shorthand for trained_model[['office']]\u001b[0m\u001b[0;34m\u001b[0m\u001b[0;34m\u001b[0m\u001b[0m\n\u001b[0;32m-> 1318\u001b[0;31m             \u001b[0;32mreturn\u001b[0m \u001b[0mself\u001b[0m\u001b[0;34m.\u001b[0m\u001b[0msyn0\u001b[0m\u001b[0;34m[\u001b[0m\u001b[0mself\u001b[0m\u001b[0;34m.\u001b[0m\u001b[0mvocab\u001b[0m\u001b[0;34m[\u001b[0m\u001b[0mwords\u001b[0m\u001b[0;34m]\u001b[0m\u001b[0;34m.\u001b[0m\u001b[0mindex\u001b[0m\u001b[0;34m]\u001b[0m\u001b[0;34m\u001b[0m\u001b[0m\n\u001b[0m\u001b[1;32m   1319\u001b[0m \u001b[0;34m\u001b[0m\u001b[0m\n\u001b[1;32m   1320\u001b[0m         \u001b[0;32mreturn\u001b[0m \u001b[0mvstack\u001b[0m\u001b[0;34m(\u001b[0m\u001b[0;34m[\u001b[0m\u001b[0mself\u001b[0m\u001b[0;34m.\u001b[0m\u001b[0msyn0\u001b[0m\u001b[0;34m[\u001b[0m\u001b[0mself\u001b[0m\u001b[0;34m.\u001b[0m\u001b[0mvocab\u001b[0m\u001b[0;34m[\u001b[0m\u001b[0mword\u001b[0m\u001b[0;34m]\u001b[0m\u001b[0;34m.\u001b[0m\u001b[0mindex\u001b[0m\u001b[0;34m]\u001b[0m \u001b[0;32mfor\u001b[0m \u001b[0mword\u001b[0m \u001b[0;32min\u001b[0m \u001b[0mwords\u001b[0m\u001b[0;34m]\u001b[0m\u001b[0;34m)\u001b[0m\u001b[0;34m\u001b[0m\u001b[0m\n",
      "\u001b[0;31mKeyError\u001b[0m: 'saylor'"
     ]
    }
   ],
   "source": [
    "model['saylor']"
   ]
  }
 ],
 "metadata": {
  "kernelspec": {
   "display_name": "Python 3",
   "language": "python",
   "name": "python3"
  },
  "language_info": {
   "codemirror_mode": {
    "name": "ipython",
    "version": 3
   },
   "file_extension": ".py",
   "mimetype": "text/x-python",
   "name": "python",
   "nbconvert_exporter": "python",
   "pygments_lexer": "ipython3",
   "version": "3.5.1"
  }
 },
 "nbformat": 4,
 "nbformat_minor": 0
}
