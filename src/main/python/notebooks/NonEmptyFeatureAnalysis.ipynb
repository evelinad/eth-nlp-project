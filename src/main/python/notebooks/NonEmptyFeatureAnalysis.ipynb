{
 "cells": [
  {
   "cell_type": "code",
   "execution_count": 14,
   "metadata": {
    "collapsed": true
   },
   "outputs": [],
   "source": [
    "from __future__ import print_function\n",
    "import numpy as np\n",
    "import numpy as np\n",
    "import random\n",
    "from sklearn import preprocessing\n",
    "from sklearn.preprocessing import MaxAbsScaler, MinMaxScaler, RobustScaler, StandardScaler\n",
    "import sys\n",
    "sys.setrecursionlimit(1500)"
   ]
  },
  {
   "cell_type": "code",
   "execution_count": 68,
   "metadata": {
    "collapsed": true
   },
   "outputs": [],
   "source": [
    "def train_scaler(X):\n",
    "    scaler = MaxAbsScaler()\n",
    "    scaler.fit(X)\n",
    "    return scaler    "
   ]
  },
  {
   "cell_type": "code",
   "execution_count": 69,
   "metadata": {
    "collapsed": false
   },
   "outputs": [],
   "source": [
    "def load_training_data(csv_file_name, undersample=False):\n",
    "    \"\"\"Loads a CSV file produced by the Java feature generator.\"\"\"\n",
    "    X_raw = []\n",
    "    y_raw = []\n",
    "    indices = (1,2,3,4,5,6,7,8,9,12,13,14,15,16,17,18,19,20,21,22,23,24,25,26,27,28,29)\n",
    "    random.seed(21)\n",
    "    with open(csv_file_name, 'r') as f:\n",
    "        for line_number, line in enumerate(f.readlines()):\n",
    "            parts = line[:-1].split(\",\")\n",
    "            if undersample:\n",
    "                if int(parts[0])==0:\n",
    "                    if random.random() < 0.152: # no undersampling for now\n",
    "                        y_raw.append(int(parts[0]))\n",
    "                        features_np = np.array([float(f) for f in parts[1:]])\n",
    "                        X_raw.append(features_np) \n",
    "                else:\n",
    "                    y_raw.append(int(parts[0]))\n",
    "                    features_np = np.array([float(f) for f in parts[1:]])\n",
    "                    X_raw.append(features_np)  \n",
    "            else:\n",
    "                y_raw.append(int(parts[0]))\n",
    "                features_np = np.array([float(f) for f in parts[1:]])\n",
    "                X_raw.append(features_np)                    \n",
    "        X_raw = np.array(X_raw)\n",
    "        y_raw = np.array(y_raw)\n",
    "        \n",
    "        X_raw = X_raw[:,indices]\n",
    "\n",
    "        print(\"Feature shape: {0}\".format(X_raw.shape))\n",
    "        print(\"Label shape: {0}\".format(y_raw.shape))\n",
    "        return np.nan_to_num(X_raw), np.nan_to_num(y_raw)"
   ]
  },
  {
   "cell_type": "code",
   "execution_count": 70,
   "metadata": {
    "collapsed": false
   },
   "outputs": [],
   "source": [
    "csv_file_name_train = \"../../../../data/nonempty_train_dict_strict.csv\"\n",
    "csv_file_name_test = \"../../../../data/nonempty_lululu_dict_strict.csv\""
   ]
  },
  {
   "cell_type": "code",
   "execution_count": 71,
   "metadata": {
    "collapsed": false
   },
   "outputs": [
    {
     "name": "stdout",
     "output_type": "stream",
     "text": [
      "Feature shape: (76, 27)\n",
      "Label shape: (76,)\n",
      "Feature shape: (246, 27)\n",
      "Label shape: (246,)\n"
     ]
    }
   ],
   "source": [
    "X_train, y_train = load_training_data(csv_file_name_train,True)\n",
    "X_test, y_test = load_training_data(csv_file_name_test)"
   ]
  },
  {
   "cell_type": "code",
   "execution_count": 72,
   "metadata": {
    "collapsed": false
   },
   "outputs": [],
   "source": [
    "scaler = train_scaler(X_train)\n",
    "X_train = scaler.transform(X_train)\n",
    "X_test = scaler.transform(X_test)"
   ]
  },
  {
   "cell_type": "code",
   "execution_count": 36,
   "metadata": {
    "collapsed": false
   },
   "outputs": [
    {
     "name": "stdout",
     "output_type": "stream",
     "text": [
      "We have 34 positive labels in training set.\n",
      "We have 26 positive labels in validation set.\n"
     ]
    }
   ],
   "source": [
    "train_pos = np.sum(y_train == 1)\n",
    "test_pos = np.sum(y_test == 1)\n",
    "print(\"We have {0} positive labels in training set.\".format(train_pos))\n",
    "print(\"We have {0} positive labels in validation set.\".format(test_pos))"
   ]
  },
  {
   "cell_type": "code",
   "execution_count": 43,
   "metadata": {
    "collapsed": false
   },
   "outputs": [],
   "source": [
    "from sklearn.linear_model import SGDClassifier\n",
    "from sklearn.discriminant_analysis import LinearDiscriminantAnalysis\n",
    "from sklearn.svm import SVC, SVR, LinearSVC, LinearSVR\n",
    "\n"
   ]
  },
  {
   "cell_type": "code",
   "execution_count": 57,
   "metadata": {
    "collapsed": false
   },
   "outputs": [
    {
     "name": "stdout",
     "output_type": "stream",
     "text": [
      "True empty predictions 7!\n",
      "6 were predicted to be empty but were not; 19 predicted to be nonempty but were not;\n"
     ]
    }
   ],
   "source": [
    "#clf = SGDClassifier(alpha=0.002, loss='log', penalty='l2', n_iter=1000)\n",
    "#clf = LinearDiscriminantAnalysis()\n",
    "clf = SVC(kernel='rbf', C=0.75, probability=True, random_state=21)\n",
    "clf.fit(X_train,y_train)\n",
    "th = 0.9\n",
    "\n",
    "y_prob = clf.predict_proba(X_test)\n",
    "y_predict = np.zeros(len(y_test))\n",
    "for i in range(len(y_test)):\n",
    "    if y_prob[i,1] >= th:\n",
    "        y_predict[i] = 1\n",
    "        \n",
    "fp = fn = tp = 0 \n",
    "for i in range(len(y_predict)):\n",
    "    if y_predict[i] == y_test[i] == 1:\n",
    "        tp += 1\n",
    "        #print(y_prob[i])\n",
    "    if y_predict[i] == 1 and y_test[i] == 0:\n",
    "        fp += 1\n",
    "        #print(i)\n",
    "        #print(y_prob[i])\n",
    "    if y_predict[i] == 0 and y_test[i] == 1:\n",
    "        fn += 1\n",
    "        #print(i)\n",
    "        #print(\"+++++++++++++++++++++++++++++++{0}\".format(y_prob[i]))\n",
    "print(\"True empty predictions {0}!\".format(tp))\n",
    "print(\"{0} were predicted to be empty but were not; {1} predicted to be nonempty but were not;\".format(fp,fn))"
   ]
  },
  {
   "cell_type": "code",
   "execution_count": null,
   "metadata": {
    "collapsed": true
   },
   "outputs": [],
   "source": []
  },
  {
   "cell_type": "code",
   "execution_count": null,
   "metadata": {
    "collapsed": true
   },
   "outputs": [],
   "source": []
  },
  {
   "cell_type": "code",
   "execution_count": null,
   "metadata": {
    "collapsed": true
   },
   "outputs": [],
   "source": []
  },
  {
   "cell_type": "code",
   "execution_count": null,
   "metadata": {
    "collapsed": true
   },
   "outputs": [],
   "source": []
  },
  {
   "cell_type": "code",
   "execution_count": null,
   "metadata": {
    "collapsed": true
   },
   "outputs": [],
   "source": []
  },
  {
   "cell_type": "code",
   "execution_count": null,
   "metadata": {
    "collapsed": true
   },
   "outputs": [],
   "source": []
  },
  {
   "cell_type": "code",
   "execution_count": null,
   "metadata": {
    "collapsed": false
   },
   "outputs": [],
   "source": []
  },
  {
   "cell_type": "code",
   "execution_count": 59,
   "metadata": {
    "collapsed": false
   },
   "outputs": [],
   "source": [
    "def eval(filename):\n",
    "    X_test, y_test = load_training_data(filename)    \n",
    "    fp = fn = tp = 0 \n",
    "    for i in range(len(y_test)):\n",
    "        if X_test[i,1] == 0:\n",
    "            predict = 1\n",
    "        else: \n",
    "            predict = 0\n",
    "        if predict == y_test[i] == 1:\n",
    "            tp += 1\n",
    "            #print(y_prob[i])\n",
    "        if predict == 1 and y_test[i] == 0:\n",
    "            fp += 1\n",
    "            #print(i)\n",
    "            #print(y_prob[i])\n",
    "        if predict == 0 and y_test[i] == 1:\n",
    "            fn += 1\n",
    "            #print(i)\n",
    "    print(\"True empty predictions {0}!\".format(tp))\n",
    "    print(\"{0} were predicted to be empty but were not; {1} predicted to be nonempty but were not;\".format(fp,fn))"
   ]
  },
  {
   "cell_type": "code",
   "execution_count": 60,
   "metadata": {
    "collapsed": false
   },
   "outputs": [
    {
     "name": "stdout",
     "output_type": "stream",
     "text": [
      "Feature shape: (322, 27)\n",
      "Label shape: (322,)\n",
      "True empty predictions 2!\n",
      "3 were predicted to be empty but were not; 32 predicted to be nonempty but were not;\n"
     ]
    }
   ],
   "source": [
    "eval(\"../../../../data/nonempty_train_dict_strict.csv\")"
   ]
  },
  {
   "cell_type": "code",
   "execution_count": 61,
   "metadata": {
    "collapsed": false
   },
   "outputs": [
    {
     "name": "stdout",
     "output_type": "stream",
     "text": [
      "Feature shape: (249, 27)\n",
      "Label shape: (249,)\n",
      "True empty predictions 3!\n",
      "6 were predicted to be empty but were not; 25 predicted to be nonempty but were not;\n"
     ]
    }
   ],
   "source": [
    "eval(\"../../../../data/nonempty_valid_dict.csv\")"
   ]
  },
  {
   "cell_type": "code",
   "execution_count": 64,
   "metadata": {
    "collapsed": false
   },
   "outputs": [
    {
     "name": "stdout",
     "output_type": "stream",
     "text": [
      "Feature shape: (246, 27)\n",
      "Label shape: (246,)\n",
      "True empty predictions 3!\n",
      "6 were predicted to be empty but were not; 23 predicted to be nonempty but were not;\n"
     ]
    }
   ],
   "source": [
    "eval(\"../../../../data/nonempty_lululu_dict.csv\")"
   ]
  },
  {
   "cell_type": "code",
   "execution_count": null,
   "metadata": {
    "collapsed": true
   },
   "outputs": [],
   "source": []
  },
  {
   "cell_type": "code",
   "execution_count": null,
   "metadata": {
    "collapsed": true
   },
   "outputs": [],
   "source": []
  }
 ],
 "metadata": {
  "kernelspec": {
   "display_name": "Python 3",
   "language": "python",
   "name": "python3"
  },
  "language_info": {
   "codemirror_mode": {
    "name": "ipython",
    "version": 3
   },
   "file_extension": ".py",
   "mimetype": "text/x-python",
   "name": "python",
   "nbconvert_exporter": "python",
   "pygments_lexer": "ipython3",
   "version": "3.5.1"
  }
 },
 "nbformat": 4,
 "nbformat_minor": 0
}
