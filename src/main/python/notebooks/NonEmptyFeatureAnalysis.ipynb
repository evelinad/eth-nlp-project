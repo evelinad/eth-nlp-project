{
 "cells": [
  {
   "cell_type": "code",
   "execution_count": 102,
   "metadata": {
    "collapsed": true
   },
   "outputs": [],
   "source": [
    "from __future__ import print_function\n",
    "import numpy as np\n",
    "import numpy as np\n",
    "import random\n",
    "from sklearn import preprocessing\n",
    "from sklearn.preprocessing import RobustScaler\n",
    "from sklearn.preprocessing import MaxAbsScaler"
   ]
  },
  {
   "cell_type": "code",
   "execution_count": 103,
   "metadata": {
    "collapsed": true
   },
   "outputs": [],
   "source": [
    "def train_scaler(X):\n",
    "    scaler = MaxAbsScaler()\n",
    "    scaler.fit(X)\n",
    "    return scaler    "
   ]
  },
  {
   "cell_type": "code",
   "execution_count": 104,
   "metadata": {
    "collapsed": false
   },
   "outputs": [],
   "source": [
    "def load_training_data(csv_file_name, undersample=False):\n",
    "    \"\"\"Loads a CSV file produced by the Java feature generator.\"\"\"\n",
    "    X_raw = []\n",
    "    y_raw = []\n",
    "    random.seed(21)\n",
    "    with open(csv_file_name, 'r') as f:\n",
    "        for line_number, line in enumerate(f.readlines()):\n",
    "            parts = line[:-1].split(\",\")\n",
    "            if undersample:\n",
    "                if int(parts[0])==0:\n",
    "                    if random.random() < 0.15:\n",
    "                        y_raw.append(int(parts[0]))\n",
    "                        features_np = np.array([float(f) for f in parts[1:]])\n",
    "                        X_raw.append(features_np) \n",
    "                else:\n",
    "                    y_raw.append(int(parts[0]))\n",
    "                    features_np = np.array([float(f) for f in parts[1:]])\n",
    "                    X_raw.append(features_np)  \n",
    "            else:\n",
    "                y_raw.append(int(parts[0]))\n",
    "                features_np = np.array([float(f) for f in parts[1:]])\n",
    "                X_raw.append(features_np)                    \n",
    "        X_raw = np.array(X_raw)\n",
    "        y_raw = np.array(y_raw)\n",
    "\n",
    "        print(\"Feature shape: {0}\".format(X_raw.shape))\n",
    "        print(\"Label shape: {0}\".format(y_raw.shape))\n",
    "        return np.nan_to_num(X_raw), np.nan_to_num(y_raw)"
   ]
  },
  {
   "cell_type": "code",
   "execution_count": 105,
   "metadata": {
    "collapsed": false
   },
   "outputs": [],
   "source": [
    "csv_file_name_train = \"../../../../data/nonempty_train.csv\"\n",
    "csv_file_name_test = \"../../../../data/nonempty_valid.csv\""
   ]
  },
  {
   "cell_type": "code",
   "execution_count": 106,
   "metadata": {
    "collapsed": false
   },
   "outputs": [
    {
     "name": "stdout",
     "output_type": "stream",
     "text": [
      "Feature shape: (118, 5)\n",
      "Label shape: (118,)\n",
      "Feature shape: (249, 5)\n",
      "Label shape: (249,)\n"
     ]
    }
   ],
   "source": [
    "X_train, y_train = load_training_data(csv_file_name_train,undersample=True)\n",
    "X_test, y_test = load_training_data(csv_file_name_test)"
   ]
  },
  {
   "cell_type": "code",
   "execution_count": 107,
   "metadata": {
    "collapsed": false
   },
   "outputs": [],
   "source": [
    "scaler = train_scaler(X_train)\n",
    "X_train = scaler.transform(X_train)\n",
    "X_test = scaler.transform(X_test)"
   ]
  },
  {
   "cell_type": "code",
   "execution_count": 108,
   "metadata": {
    "collapsed": false
   },
   "outputs": [
    {
     "name": "stdout",
     "output_type": "stream",
     "text": [
      "We have 51 positive labels in training set.\n",
      "We have 28 positive labels in validation set.\n"
     ]
    }
   ],
   "source": [
    "train_pos = np.sum(y_train == 1)\n",
    "test_pos = np.sum(y_test == 1)\n",
    "print(\"We have {0} positive labels in training set.\".format(train_pos))\n",
    "print(\"We have {0} positive labels in validation set.\".format(test_pos))"
   ]
  },
  {
   "cell_type": "code",
   "execution_count": 109,
   "metadata": {
    "collapsed": false
   },
   "outputs": [],
   "source": [
    "from sklearn.linear_model import SGDClassifier\n",
    "from sklearn.discriminant_analysis import LinearDiscriminantAnalysis\n"
   ]
  },
  {
   "cell_type": "code",
   "execution_count": 110,
   "metadata": {
    "collapsed": false
   },
   "outputs": [
    {
     "name": "stdout",
     "output_type": "stream",
     "text": [
      "True empty predictions 9!\n",
      "7 were predicted to be empty but were not; 19 predicted to be nonempty but were not;\n"
     ]
    }
   ],
   "source": [
    "clf = SGDClassifier(alpha=0.0002, loss='log', penalty='l2', n_iter=10000)\n",
    "#clf = LinearDiscriminantAnalysis()\n",
    "clf.fit(X_train,y_train)\n",
    "th = 0.89\n",
    "\n",
    "y_prob = clf.predict_proba(X_test)\n",
    "y_predict = np.zeros(len(y_test))\n",
    "for i in range(len(y_test)):\n",
    "    prediction = 0\n",
    "    if y_prob[i,1] >= th:\n",
    "        y_predict[i] = 1\n",
    "        \n",
    "        \n",
    "fp = fn = tp = 0 \n",
    "for i in range(len(y_predict)):\n",
    "    if y_predict[i] == y_test[i] == 1:\n",
    "        tp += 1\n",
    "    if y_predict[i] == 1 and y_test[i] == 0:\n",
    "        fp += 1\n",
    "    if y_predict[i] == 0 and y_test[i] == 1:\n",
    "        fn += 1\n",
    "print(\"True empty predictions {0}!\".format(tp))\n",
    "print(\"{0} were predicted to be empty but were not; {1} predicted to be nonempty but were not;\".format(fp,fn))"
   ]
  },
  {
   "cell_type": "code",
   "execution_count": null,
   "metadata": {
    "collapsed": true
   },
   "outputs": [],
   "source": []
  },
  {
   "cell_type": "code",
   "execution_count": null,
   "metadata": {
    "collapsed": true
   },
   "outputs": [],
   "source": []
  },
  {
   "cell_type": "code",
   "execution_count": null,
   "metadata": {
    "collapsed": true
   },
   "outputs": [],
   "source": []
  },
  {
   "cell_type": "code",
   "execution_count": null,
   "metadata": {
    "collapsed": true
   },
   "outputs": [],
   "source": []
  },
  {
   "cell_type": "code",
   "execution_count": null,
   "metadata": {
    "collapsed": true
   },
   "outputs": [],
   "source": []
  },
  {
   "cell_type": "code",
   "execution_count": null,
   "metadata": {
    "collapsed": true
   },
   "outputs": [],
   "source": []
  },
  {
   "cell_type": "code",
   "execution_count": null,
   "metadata": {
    "collapsed": true
   },
   "outputs": [],
   "source": []
  }
 ],
 "metadata": {
  "kernelspec": {
   "display_name": "Python 3",
   "language": "python",
   "name": "python3"
  },
  "language_info": {
   "codemirror_mode": {
    "name": "ipython",
    "version": 3
   },
   "file_extension": ".py",
   "mimetype": "text/x-python",
   "name": "python",
   "nbconvert_exporter": "python",
   "pygments_lexer": "ipython3",
   "version": "3.5.1"
  }
 },
 "nbformat": 4,
 "nbformat_minor": 0
}
