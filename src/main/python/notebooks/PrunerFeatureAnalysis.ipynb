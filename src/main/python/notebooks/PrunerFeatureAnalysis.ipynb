{
 "cells": [
  {
   "cell_type": "code",
   "execution_count": 52,
   "metadata": {
    "collapsed": true
   },
   "outputs": [],
   "source": [
    "from __future__ import print_function\n",
    "import numpy as np"
   ]
  },
  {
   "cell_type": "code",
   "execution_count": 53,
   "metadata": {
    "collapsed": true
   },
   "outputs": [],
   "source": [
    "np.random.seed(0xF00BA2)\n"
   ]
  },
  {
   "cell_type": "code",
   "execution_count": 54,
   "metadata": {
    "collapsed": false
   },
   "outputs": [],
   "source": [
    "# Where we had our Scala program dump all the training data.\n",
    "# (back to python, to main, to src, to root)\n",
    "# Andrei: data only from Gerdaq-train-a\n",
    "# csv_file_name = \"../../../../data/all-candidates-4-10-14-10.csv\"\n",
    "# Andrei: data from both Gerdaq-train-a and b, but with fewer features\n",
    "# csv_file_name = \"../../../../data/all-candidates-5-14-13-25.csv\"\n",
    "\n",
    "# Andrei: data from both A and B, and with more features!\n",
    "# Entity: 1; 3-10; 15-19; 23-24;\n",
    "# Mention-entity: 26-29\n",
    "csv_file_name = \"../../../../data/all-candidates-5-17-14-5.csv\""
   ]
  },
  {
   "cell_type": "code",
   "execution_count": 55,
   "metadata": {
    "collapsed": false
   },
   "outputs": [],
   "source": [
    "# Load our data loading and scaling utilities.\n",
    "%run '../data_util.py'"
   ]
  },
  {
   "cell_type": "code",
   "execution_count": 56,
   "metadata": {
    "collapsed": false
   },
   "outputs": [
    {
     "name": "stdout",
     "output_type": "stream",
     "text": [
      "Import was successful.\n",
      "Feature shape: (82127, 20)\n",
      "Label shape: (82127,)\n"
     ]
    }
   ],
   "source": [
    "FEATURE_COUNT = 20\n",
    "X_raw, y_raw = load_training_data(csv_file_name, FEATURE_COUNT)"
   ]
  },
  {
   "cell_type": "code",
   "execution_count": 57,
   "metadata": {
    "collapsed": false
   },
   "outputs": [
    {
     "name": "stdout",
     "output_type": "stream",
     "text": [
      "Raw feature max vals: [  3.39000000e+08   1.00000000e+02   2.53333333e+01   2.53333333e+01\n",
      "   1.00000000e+04   0.00000000e+00   3.10000000e+01   1.00000000e+00\n",
      "   2.50000000e+01   1.00000000e+00   1.00000000e+00   1.00000000e+00\n",
      "   1.00000000e+00   1.00000000e+00   1.05000000e+01   1.70000000e+01\n",
      "   2.50000000e+01   7.90000000e+01   1.00000000e+00   1.00000000e+00]\n",
      "Raw feature min vals: [ 0.  1.  0.  0.  0.  0.  0.  0.  0.  0.  0.  0.  0.  0.  0.  0.  0.  0.\n",
      "  0.  0.]\n",
      "Raw feature mean vals: [  1.81894359e+07   9.40710241e+01   4.04707035e+00   3.95638653e+00\n",
      "   1.02438591e+01   0.00000000e+00   6.60782541e+00   1.57812291e-01\n",
      "   2.30326494e+01   6.39798172e-03   8.79772465e-01   4.53163184e-04\n",
      "   6.01287434e-01   4.15894032e-02   7.11704056e-02   6.43480451e+00\n",
      "   5.18667289e+00   1.69747586e+01   9.78713518e-03   4.07028997e-02]\n",
      "Raw feature stds: [  4.15479096e+07   2.14905149e+01   2.04727469e+00   2.10104523e+00\n",
      "   3.19649394e+02   0.00000000e+00   1.81093658e+00   2.22818689e-01\n",
      "   2.89998524e+00   2.41857755e-02   2.07686219e-01   2.08302986e-02\n",
      "   4.39838755e-01   8.44628780e-02   2.88821512e-01   1.87623040e+00\n",
      "   2.31223656e+00   8.61802305e+00   8.72745481e-02   1.32658528e-01]\n",
      "\n",
      "Unwanted value checks:\n",
      "NaNs: [0 0 0 0 0 0 0 0 0 0 0 0 0 0 0 0 0 0 0 0]\n",
      "Infinities: [0 0 0 0 0 0 0 0 0 0 0 0 0 0 0 0 0 0 0 0]\n"
     ]
    }
   ],
   "source": [
    "print(\"Raw feature max vals: {0}\".format(np.max(X_raw, axis=0)))\n",
    "print(\"Raw feature min vals: {0}\".format(np.min(X_raw, axis=0)))\n",
    "print(\"Raw feature mean vals: {0}\".format(np.mean(X_raw, axis=0)))\n",
    "print(\"Raw feature stds: {0}\".format(np.std(X_raw, axis=0)))\n",
    "\n",
    "print()\n",
    "print(\"Unwanted value checks:\")\n",
    "print(\"NaNs: {0}\".format(np.sum(np.isnan(X_raw), axis=0)))\n",
    "print(\"Infinities: {0}\".format(np.sum(np.isinf(X_raw), axis=0)))"
   ]
  },
  {
   "cell_type": "code",
   "execution_count": 58,
   "metadata": {
    "collapsed": false
   },
   "outputs": [
    {
     "name": "stdout",
     "output_type": "stream",
     "text": [
      "[ 0.74871574 -0.12804783  0.07147374 ..., -0.09966897  0.09620482\n",
      " -0.11730227]\n",
      "[ 3.67884292  2.1972016   1.71475578 ...,  1.14650541  0.9152049   1.1598036 ]\n"
     ]
    }
   ],
   "source": [
    "import sklearn\n",
    "X_res, y_res, _, _, _ = rescale(X_raw, y_raw)\n",
    "X, y = sklearn.utils.shuffle(X_res, y_res)"
   ]
  },
  {
   "cell_type": "code",
   "execution_count": 59,
   "metadata": {
    "collapsed": false
   },
   "outputs": [
    {
     "name": "stdout",
     "output_type": "stream",
     "text": [
      "We have 887 positive labels.\n",
      "We have 81240 negative labels.\n"
     ]
    }
   ],
   "source": [
    "pos_count = np.sum(y == 1)\n",
    "neg_count = np.sum(y == 0)\n",
    "print(\"We have {0} positive labels.\".format(pos_count))\n",
    "print(\"We have {0} negative labels.\".format(neg_count))"
   ]
  },
  {
   "cell_type": "markdown",
   "metadata": {},
   "source": [
    "## Train/validation split with slicing wizardry"
   ]
  },
  {
   "cell_type": "code",
   "execution_count": 60,
   "metadata": {
    "collapsed": false
   },
   "outputs": [
    {
     "name": "stdout",
     "output_type": "stream",
     "text": [
      "133\n",
      "133\n",
      "Training:\n",
      "(81861, 20)\n",
      "(81861,)\n",
      "Validation:\n",
      "(266, 20)\n",
      "(266,)\n",
      "133 133 266\n"
     ]
    }
   ],
   "source": [
    "# Use a much smaller ratio of negative to positive samples in the validation\n",
    "# set, for more accurate validation results.\n",
    "VALIDATION_NEG_TO_POS_RATIO = 1\n",
    "\n",
    "pos_count_valid = int(pos_count * 0.15)\n",
    "neg_count_valid = pos_count_valid * VALIDATION_NEG_TO_POS_RATIO\n",
    "\n",
    "# Indexes of positive rows to use for validation.\n",
    "# This witchcraft isolates the indexes of the first 'pos_count_valid' rows\n",
    "# with positive labels in the training data.\n",
    "y_pos_ind = (y == 1)\n",
    "y_pos_counts = np.cumsum(y_pos_ind)\n",
    "y_pos_lim = np.where(y_pos_counts == (pos_count_valid + 1))[0][0]\n",
    "y_pos_ind[y_pos_lim:] = False\n",
    "\n",
    "# This bit does the same but for the first 'neg_count_valid' rows with negative\n",
    "# labels.\n",
    "y_neg_ind = (y == 0)\n",
    "y_neg_counts = np.cumsum(y_neg_ind)\n",
    "y_neg_lim = np.where(y_neg_counts == (neg_count_valid + 1))[0][0]\n",
    "y_neg_ind[y_neg_lim:] = False\n",
    "\n",
    "# Make sure that there's no overlap, which would signify that we messed something\n",
    "# up with the slicing/indexing.\n",
    "assert np.sum(y_pos_ind & y_neg_ind) == 0\n",
    "\n",
    "X_valid = X[y_pos_ind | y_neg_ind]\n",
    "y_valid = y[y_pos_ind | y_neg_ind]\n",
    "\n",
    "X_train = X[~(y_pos_ind | y_neg_ind)]\n",
    "y_train = y[~(y_pos_ind | y_neg_ind)]\n",
    "\n",
    "# Just some manual extra checks.\n",
    "# TODO(andrei): Label better or remove.\n",
    "print(np.sum(y_pos_ind))\n",
    "print(np.sum(y_neg_ind))\n",
    "print(\"Training:\")\n",
    "print(X_train.shape)\n",
    "print(y_train.shape)\n",
    "print(\"Validation:\")\n",
    "print(X_valid.shape)\n",
    "print(y_valid.shape)\n",
    "print(pos_count_valid, neg_count_valid, pos_count_valid + neg_count_valid)"
   ]
  },
  {
   "cell_type": "markdown",
   "metadata": {},
   "source": [
    "## Linear SVC"
   ]
  },
  {
   "cell_type": "code",
   "execution_count": 61,
   "metadata": {
    "collapsed": false
   },
   "outputs": [
    {
     "name": "stdout",
     "output_type": "stream",
     "text": [
      "[ 0.90081837  0.89129107  0.77036766  0.82911934  0.93696555  0.795871\n",
      "  0.78487662  0.78155162  0.78729383  0.75442883]\n",
      "0.823258388442\n"
     ]
    }
   ],
   "source": [
    "from sklearn.cross_validation import cross_val_score\n",
    "from sklearn.linear_model import SGDClassifier\n",
    "from sklearn.metrics import *\n",
    "from sklearn.svm import SVC, SVR, LinearSVC, LinearSVR\n",
    "\n",
    "\n",
    "# The \"class_weight='balanced'\" param tells the SVM to give adaptive weights\n",
    "# to the labels from each class, in order to account for imbalanced data.\n",
    "\n",
    "scores = cross_val_score(SGDClassifier(class_weight='balanced'), X_train, y_train, cv=10)\n",
    "# scores = cross_val_score(LinearSVC(class_weight='balanced'), X_train, y_train, cv=5)\n",
    "print(scores)\n",
    "print(np.mean(scores))"
   ]
  },
  {
   "cell_type": "markdown",
   "metadata": {},
   "source": [
    "Sample for train-A:\n",
    "```\n",
    "[ 0.59212345  0.69622294  0.93390143  0.69415016  0.73952096  0.71020502\n",
    "  0.73324119  0.67396313  0.69746544  0.78225806]\n",
    "0.725305177786\n",
    "```"
   ]
  },
  {
   "cell_type": "code",
   "execution_count": 62,
   "metadata": {
    "collapsed": false
   },
   "outputs": [
    {
     "data": {
      "text/plain": [
       "SGDClassifier(alpha=0.001, average=False, class_weight='balanced',\n",
       "       epsilon=0.1, eta0=0.0, fit_intercept=True, l1_ratio=0.15,\n",
       "       learning_rate='optimal', loss='hinge', n_iter=5, n_jobs=1,\n",
       "       penalty='l2', power_t=0.5, random_state=None, shuffle=True,\n",
       "       verbose=0, warm_start=False)"
      ]
     },
     "execution_count": 62,
     "metadata": {},
     "output_type": "execute_result"
    }
   ],
   "source": [
    "lin_clf = SGDClassifier(class_weight='balanced', alpha=0.001, loss='hinge')\n",
    "# lin_clf = LinearSVC() -> validation accuracy 0.5 !!\n",
    "lin_clf.fit(X_train, y_train)"
   ]
  },
  {
   "cell_type": "code",
   "execution_count": 63,
   "metadata": {
    "collapsed": false,
    "scrolled": false
   },
   "outputs": [
    {
     "name": "stdout",
     "output_type": "stream",
     "text": [
      "Validation data shape: (266, 20)\n",
      "Validation data neg:pos ratio: 1\n",
      "Validation accuracy: 0.8421052631578947\n",
      "[[115  18]\n",
      " [ 24 109]]\n"
     ]
    }
   ],
   "source": [
    "score = lin_clf.score(X_valid, y_valid)\n",
    "y_valid_predicted = lin_clf.predict(X_valid)\n",
    "\n",
    "print(\"Validation data shape: {0}\".format(X_valid.shape))\n",
    "print(\"Validation data neg:pos ratio: {0}\".format(VALIDATION_NEG_TO_POS_RATIO))\n",
    "print(\"Validation accuracy: {0}\".format(score))\n",
    "\n",
    "print(confusion_matrix(y_valid, y_valid_predicted))"
   ]
  },
  {
   "cell_type": "markdown",
   "metadata": {},
   "source": [
    "Sample from train-A only:\n",
    "\n",
    "```\n",
    "Validation data shape: (136, 10)\n",
    "Validation data neg:pos ratio: 1\n",
    "Validation accuracy: 0.7941176470588235\n",
    "[[65  3]\n",
    " [25 43]]\n",
    "```"
   ]
  },
  {
   "cell_type": "markdown",
   "metadata": {},
   "source": [
    "### Grid search for Linear SVM (SGDClassifier)"
   ]
  },
  {
   "cell_type": "code",
   "execution_count": 64,
   "metadata": {
    "collapsed": false
   },
   "outputs": [],
   "source": [
    "from operator import itemgetter\n",
    "\n",
    "def report(grid_scores, n_top=3):\n",
    "    top_scores = sorted(grid_scores, key=itemgetter(1), reverse=True)[:n_top]\n",
    "    for i, score in enumerate(top_scores):\n",
    "        print(\"[{0}] Mean validation score: {1:.3f} (std: {2:.3f}): {3}\".format(\n",
    "              i,\n",
    "              score.mean_validation_score,\n",
    "              np.std(score.cv_validation_scores),\n",
    "              score.parameters))"
   ]
  },
  {
   "cell_type": "code",
   "execution_count": 68,
   "metadata": {
    "collapsed": false
   },
   "outputs": [],
   "source": [
    "from sklearn.grid_search import GridSearchCV\n",
    "from sklearn.externals.joblib import delayed\n",
    "\n",
    "pg_lin = {\n",
    "    'alpha': [0.0005, 0.00075, 0.00100, 0.00500, 0.010, 0.015, 0.025, 0.050, 0.1, 0.5],\n",
    "    'loss': ['hinge', 'log'],\n",
    "#     'loss': ['hinge'],\n",
    "    'penalty': ['l1', 'l2', 'elasticnet'],\n",
    "    # The default iteration count is 5.\n",
    "#     'n_iter': [25],\n",
    "}\n",
    "\n",
    "# Simple cross-validation doesn't work well out of the box, as our data is very imbalanced.\n",
    "# score_on_validation = lambda est, xx_ignore, yy_ignore: est.score(X_valid, y_valid)\n",
    "def score_on_validation(est, xx_ignore, yy_ignore):\n",
    "    return est.score(X_valid, y_valid)\n",
    "\n",
    "gs_lin = GridSearchCV(lin_clf, pg_lin, cv=None, scoring=score_on_validation, n_jobs=-1)"
   ]
  },
  {
   "cell_type": "code",
   "execution_count": 69,
   "metadata": {
    "collapsed": false
   },
   "outputs": [
    {
     "data": {
      "text/plain": [
       "GridSearchCV(cv=None, error_score='raise',\n",
       "       estimator=SGDClassifier(alpha=0.001, average=False, class_weight='balanced',\n",
       "       epsilon=0.1, eta0=0.0, fit_intercept=True, l1_ratio=0.15,\n",
       "       learning_rate='optimal', loss='hinge', n_iter=5, n_jobs=1,\n",
       "       penalty='l2', power_t=0.5, random_state=None, shuffle=True,\n",
       "       verbose=0, warm_start=False),\n",
       "       fit_params={}, iid=True, n_jobs=-1,\n",
       "       param_grid={'alpha': [0.0005, 0.00075, 0.001, 0.005, 0.01, 0.015, 0.025, 0.05, 0.1, 0.5], 'loss': ['hinge', 'log'], 'penalty': ['l1', 'l2', 'elasticnet']},\n",
       "       pre_dispatch='2*n_jobs', refit=True,\n",
       "       scoring=<function score_on_validation at 0x10fbd48c8>, verbose=0)"
      ]
     },
     "execution_count": 69,
     "metadata": {},
     "output_type": "execute_result"
    }
   ],
   "source": [
    "gs_lin.fit(X_train, y_train)"
   ]
  },
  {
   "cell_type": "code",
   "execution_count": 70,
   "metadata": {
    "collapsed": false,
    "scrolled": true
   },
   "outputs": [
    {
     "name": "stdout",
     "output_type": "stream",
     "text": [
      "[0] Mean validation score: 0.866 (std: 0.006): {'alpha': 0.0005, 'loss': 'hinge', 'penalty': 'l1'}\n",
      "[1] Mean validation score: 0.855 (std: 0.012): {'alpha': 0.00075, 'loss': 'log', 'penalty': 'l1'}\n",
      "[2] Mean validation score: 0.851 (std: 0.012): {'alpha': 0.005, 'loss': 'hinge', 'penalty': 'l2'}\n",
      "[3] Mean validation score: 0.850 (std: 0.006): {'alpha': 0.001, 'loss': 'log', 'penalty': 'elasticnet'}\n",
      "[4] Mean validation score: 0.846 (std: 0.015): {'alpha': 0.01, 'loss': 'hinge', 'penalty': 'l1'}\n",
      "[5] Mean validation score: 0.846 (std: 0.000): {'alpha': 0.01, 'loss': 'log', 'penalty': 'elasticnet'}\n",
      "[6] Mean validation score: 0.845 (std: 0.006): {'alpha': 0.015, 'loss': 'log', 'penalty': 'l1'}\n",
      "[7] Mean validation score: 0.845 (std: 0.013): {'alpha': 0.005, 'loss': 'log', 'penalty': 'elasticnet'}\n",
      "[8] Mean validation score: 0.845 (std: 0.012): {'alpha': 0.015, 'loss': 'log', 'penalty': 'l2'}\n",
      "[9] Mean validation score: 0.843 (std: 0.015): {'alpha': 0.005, 'loss': 'log', 'penalty': 'l2'}\n",
      "[10] Mean validation score: 0.842 (std: 0.014): {'alpha': 0.001, 'loss': 'log', 'penalty': 'l2'}\n",
      "[11] Mean validation score: 0.841 (std: 0.006): {'alpha': 0.025, 'loss': 'log', 'penalty': 'elasticnet'}\n",
      "[12] Mean validation score: 0.838 (std: 0.017): {'alpha': 0.01, 'loss': 'log', 'penalty': 'l1'}\n",
      "[13] Mean validation score: 0.838 (std: 0.011): {'alpha': 0.01, 'loss': 'log', 'penalty': 'l2'}\n",
      "[14] Mean validation score: 0.838 (std: 0.000): {'alpha': 0.1, 'loss': 'hinge', 'penalty': 'l1'}\n",
      "[15] Mean validation score: 0.837 (std: 0.015): {'alpha': 0.005, 'loss': 'log', 'penalty': 'l1'}\n",
      "[16] Mean validation score: 0.837 (std: 0.009): {'alpha': 0.01, 'loss': 'hinge', 'penalty': 'l2'}\n",
      "[17] Mean validation score: 0.837 (std: 0.005): {'alpha': 0.015, 'loss': 'log', 'penalty': 'elasticnet'}\n",
      "[18] Mean validation score: 0.836 (std: 0.005): {'alpha': 0.015, 'loss': 'hinge', 'penalty': 'elasticnet'}\n",
      "[19] Mean validation score: 0.835 (std: 0.021): {'alpha': 0.005, 'loss': 'hinge', 'penalty': 'elasticnet'}\n",
      "[20] Mean validation score: 0.833 (std: 0.007): {'alpha': 0.01, 'loss': 'hinge', 'penalty': 'elasticnet'}\n",
      "[21] Mean validation score: 0.832 (std: 0.006): {'alpha': 0.00075, 'loss': 'log', 'penalty': 'elasticnet'}\n",
      "[22] Mean validation score: 0.832 (std: 0.007): {'alpha': 0.025, 'loss': 'log', 'penalty': 'l2'}\n",
      "[23] Mean validation score: 0.831 (std: 0.011): {'alpha': 0.001, 'loss': 'hinge', 'penalty': 'l2'}\n",
      "[24] Mean validation score: 0.830 (std: 0.011): {'alpha': 0.015, 'loss': 'hinge', 'penalty': 'l2'}\n",
      "[25] Mean validation score: 0.830 (std: 0.002): {'alpha': 0.025, 'loss': 'hinge', 'penalty': 'elasticnet'}\n",
      "[26] Mean validation score: 0.830 (std: 0.011): {'alpha': 0.00075, 'loss': 'hinge', 'penalty': 'l1'}\n",
      "[27] Mean validation score: 0.828 (std: 0.015): {'alpha': 0.0005, 'loss': 'hinge', 'penalty': 'elasticnet'}\n",
      "[28] Mean validation score: 0.828 (std: 0.013): {'alpha': 0.001, 'loss': 'log', 'penalty': 'l1'}\n",
      "[29] Mean validation score: 0.828 (std: 0.006): {'alpha': 0.05, 'loss': 'log', 'penalty': 'l2'}\n",
      "[30] Mean validation score: 0.828 (std: 0.015): {'alpha': 0.001, 'loss': 'hinge', 'penalty': 'l1'}\n",
      "[31] Mean validation score: 0.828 (std: 0.009): {'alpha': 0.00075, 'loss': 'hinge', 'penalty': 'l2'}\n",
      "[32] Mean validation score: 0.827 (std: 0.009): {'alpha': 0.025, 'loss': 'hinge', 'penalty': 'l2'}\n",
      "[33] Mean validation score: 0.827 (std: 0.003): {'alpha': 0.1, 'loss': 'log', 'penalty': 'elasticnet'}\n",
      "[34] Mean validation score: 0.827 (std: 0.003): {'alpha': 0.05, 'loss': 'hinge', 'penalty': 'elasticnet'}\n",
      "[35] Mean validation score: 0.825 (std: 0.009): {'alpha': 0.05, 'loss': 'hinge', 'penalty': 'l2'}\n",
      "[36] Mean validation score: 0.825 (std: 0.021): {'alpha': 0.0005, 'loss': 'hinge', 'penalty': 'l2'}\n",
      "[37] Mean validation score: 0.825 (std: 0.006): {'alpha': 0.005, 'loss': 'hinge', 'penalty': 'l1'}\n",
      "[38] Mean validation score: 0.825 (std: 0.014): {'alpha': 0.001, 'loss': 'hinge', 'penalty': 'elasticnet'}\n",
      "[39] Mean validation score: 0.823 (std: 0.003): {'alpha': 0.5, 'loss': 'log', 'penalty': 'l2'}\n",
      "[40] Mean validation score: 0.823 (std: 0.008): {'alpha': 0.00075, 'loss': 'hinge', 'penalty': 'elasticnet'}\n",
      "[41] Mean validation score: 0.823 (std: 0.008): {'alpha': 0.0005, 'loss': 'log', 'penalty': 'elasticnet'}\n",
      "[42] Mean validation score: 0.822 (std: 0.005): {'alpha': 0.1, 'loss': 'hinge', 'penalty': 'elasticnet'}\n",
      "[43] Mean validation score: 0.822 (std: 0.019): {'alpha': 0.0005, 'loss': 'log', 'penalty': 'l1'}\n",
      "[44] Mean validation score: 0.820 (std: 0.011): {'alpha': 0.00075, 'loss': 'log', 'penalty': 'l2'}\n",
      "[45] Mean validation score: 0.820 (std: 0.005): {'alpha': 0.1, 'loss': 'log', 'penalty': 'l2'}\n",
      "[46] Mean validation score: 0.818 (std: 0.019): {'alpha': 0.0005, 'loss': 'log', 'penalty': 'l2'}\n",
      "[47] Mean validation score: 0.817 (std: 0.008): {'alpha': 0.1, 'loss': 'hinge', 'penalty': 'l2'}\n",
      "[48] Mean validation score: 0.816 (std: 0.005): {'alpha': 0.5, 'loss': 'log', 'penalty': 'elasticnet'}\n",
      "[49] Mean validation score: 0.812 (std: 0.012): {'alpha': 0.1, 'loss': 'log', 'penalty': 'l1'}\n",
      "[50] Mean validation score: 0.812 (std: 0.003): {'alpha': 0.5, 'loss': 'hinge', 'penalty': 'l2'}\n",
      "[51] Mean validation score: 0.810 (std: 0.014): {'alpha': 0.05, 'loss': 'hinge', 'penalty': 'l1'}\n",
      "[52] Mean validation score: 0.808 (std: 0.003): {'alpha': 0.5, 'loss': 'hinge', 'penalty': 'elasticnet'}\n",
      "[53] Mean validation score: 0.807 (std: 0.052): {'alpha': 0.025, 'loss': 'hinge', 'penalty': 'l1'}\n",
      "[54] Mean validation score: 0.789 (std: 0.027): {'alpha': 0.015, 'loss': 'hinge', 'penalty': 'l1'}\n",
      "[55] Mean validation score: 0.788 (std: 0.068): {'alpha': 0.05, 'loss': 'log', 'penalty': 'l1'}\n",
      "[56] Mean validation score: 0.778 (std: 0.048): {'alpha': 0.025, 'loss': 'log', 'penalty': 'l1'}\n",
      "[57] Mean validation score: 0.758 (std: 0.009): {'alpha': 0.5, 'loss': 'log', 'penalty': 'l1'}\n",
      "[58] Mean validation score: 0.721 (std: 0.156): {'alpha': 0.05, 'loss': 'log', 'penalty': 'elasticnet'}\n",
      "[59] Mean validation score: 0.712 (std: 0.033): {'alpha': 0.5, 'loss': 'hinge', 'penalty': 'l1'}\n"
     ]
    }
   ],
   "source": [
    "report(gs_lin.grid_scores_, n_top=250)"
   ]
  },
  {
   "cell_type": "markdown",
   "metadata": {},
   "source": [
    "Sample from train-A only:\n",
    "    \n",
    "```\n",
    "[0] Mean validation score: 0.806 (std: 0.003): {'loss': 'hinge', 'penalty': 'l1', 'alpha': 0.025}\n",
    "[1] Mean validation score: 0.806 (std: 0.009): {'loss': 'log', 'penalty': 'l1', 'alpha': 0.025}\n",
    "[2] Mean validation score: 0.794 (std: 0.032): {'loss': 'hinge', 'penalty': 'l1', 'alpha': 0.001}\n",
    "[3] Mean validation score: 0.794 (std: 0.006): {'loss': 'log', 'penalty': 'elasticnet', 'alpha': 0.075}\n",
    "[4] Mean validation score: 0.794 (std: 0.000): {'loss': 'hinge', 'penalty': 'elasticnet', 'alpha': 0.1}\n",
    "[5] Mean validation score: 0.792 (std: 0.014): {'loss': 'hinge', 'penalty': 'l2', 'alpha': 0.075}\n",
    "[6] Mean validation score: 0.789 (std: 0.017): {'loss': 'hinge', 'penalty': 'elasticnet', 'alpha': 0.05}\n",
    "[7] Mean validation score: 0.789 (std: 0.014): {'loss': 'hinge', 'penalty': 'l1', 'alpha': 0.1}\n",
    "[8] Mean validation score: 0.789 (std: 0.003): {'loss': 'log', 'penalty': 'l2', 'alpha': 0.1}\n",
    "[9] Mean validation score: 0.787 (std: 0.045): {'loss': 'hinge', 'penalty': 'elasticnet', 'alpha': 0.001}\n",
    "[10] Mean validation score: 0.787 (std: 0.016): {'loss': 'hinge', 'penalty': 'l2', 'alpha': 0.1}\n",
    "[11] Mean validation score: 0.787 (std: 0.012): {'loss': 'log', 'penalty': 'l2', 'alpha': 0.075}\n",
    "[12] Mean validation score: 0.787 (std: 0.010): {'loss': 'hinge', 'penalty': 'elasticnet', 'alpha': 0.075}\n",
    "[13] Mean validation score: 0.787 (std: 0.006): {'loss': 'hinge', 'penalty': 'l2', 'alpha': 0.5}\n",
    "[14] Mean validation score: 0.784 (std: 0.015): {'loss': 'log', 'penalty': 'elasticnet', 'alpha': 0.1}\n",
    "[15] Mean validation score: 0.784 (std: 0.017): {'loss': 'log', 'penalty': 'elasticnet', 'alpha': 0.5}\n",
    "[16] Mean validation score: 0.784 (std: 0.019): {'loss': 'log', 'penalty': 'l1', 'alpha': 0.1}\n",
    "[17] Mean validation score: 0.782 (std: 0.015): {'loss': 'log', 'penalty': 'l2', 'alpha': 0.5}\n",
    "[18] Mean validation score: 0.782 (std: 0.014): {'loss': 'log', 'penalty': 'l2', 'alpha': 0.05}\n",
    "[19] Mean validation score: 0.782 (std: 0.012): {'loss': 'hinge', 'penalty': 'l1', 'alpha': 0.01}\n",
    "[20] Mean validation score: 0.782 (std: 0.009): {'loss': 'hinge', 'penalty': 'elasticnet', 'alpha': 0.01}\n",
    "[21] Mean validation score: 0.779 (std: 0.022): {'loss': 'log', 'penalty': 'l2', 'alpha': 0.025}\n",
    "[22] Mean validation score: 0.779 (std: 0.016): {'loss': 'hinge', 'penalty': 'l2', 'alpha': 0.05}\n",
    "[23] Mean validation score: 0.779 (std: 0.010): {'loss': 'log', 'penalty': 'elasticnet', 'alpha': 0.05}\n",
    "[24] Mean validation score: 0.777 (std: 0.018): {'loss': 'hinge', 'penalty': 'elasticnet', 'alpha': 0.025}\n",
    "[25] Mean validation score: 0.777 (std: 0.024): {'loss': 'hinge', 'penalty': 'l1', 'alpha': 0.075}\n",
    "[26] Mean validation score: 0.777 (std: 0.017): {'loss': 'log', 'penalty': 'l1', 'alpha': 0.05}\n",
    "[27] Mean validation score: 0.775 (std: 0.018): {'loss': 'hinge', 'penalty': 'l2', 'alpha': 0.01}\n",
    "[28] Mean validation score: 0.775 (std: 0.009): {'loss': 'log', 'penalty': 'l2', 'alpha': 0.01}\n",
    "[29] Mean validation score: 0.767 (std: 0.033): {'loss': 'hinge', 'penalty': 'l2', 'alpha': 0.025}\n",
    "[30] Mean validation score: 0.767 (std: 0.049): {'loss': 'log', 'penalty': 'l1', 'alpha': 0.075}\n",
    "[31] Mean validation score: 0.762 (std: 0.021): {'loss': 'log', 'penalty': 'elasticnet', 'alpha': 0.025}\n",
    "[32] Mean validation score: 0.757 (std: 0.022): {'loss': 'log', 'penalty': 'l1', 'alpha': 0.01}\n",
    "[33] Mean validation score: 0.755 (std: 0.003): {'loss': 'log', 'penalty': 'elasticnet', 'alpha': 0.01}\n",
    "[34] Mean validation score: 0.750 (std: 0.037): {'loss': 'log', 'penalty': 'l1', 'alpha': 0.001}\n",
    "[35] Mean validation score: 0.728 (std: 0.094): {'loss': 'log', 'penalty': 'l2', 'alpha': 0.0005}\n",
    "[36] Mean validation score: 0.716 (std: 0.050): {'loss': 'log', 'penalty': 'elasticnet', 'alpha': 0.001}\n",
    "[37] Mean validation score: 0.708 (std: 0.072): {'loss': 'log', 'penalty': 'l2', 'alpha': 0.001}\n",
    "[38] Mean validation score: 0.708 (std: 0.062): {'loss': 'hinge', 'penalty': 'elasticnet', 'alpha': 0.0005}\n",
    "[39] Mean validation score: 0.701 (std: 0.106): {'loss': 'log', 'penalty': 'l1', 'alpha': 0.0005}\n",
    "[40] Mean validation score: 0.686 (std: 0.139): {'loss': 'hinge', 'penalty': 'l1', 'alpha': 0.05}\n",
    "[41] Mean validation score: 0.686 (std: 0.132): {'loss': 'hinge', 'penalty': 'elasticnet', 'alpha': 0.5}\n",
    "[42] Mean validation score: 0.672 (std: 0.121): {'loss': 'log', 'penalty': 'elasticnet', 'alpha': 0.0005}\n",
    "[43] Mean validation score: 0.652 (std: 0.117): {'loss': 'hinge', 'penalty': 'l1', 'alpha': 0.0005}\n",
    "[44] Mean validation score: 0.652 (std: 0.100): {'loss': 'hinge', 'penalty': 'l2', 'alpha': 0.0005}\n",
    "[45] Mean validation score: 0.583 (std: 0.191): {'loss': 'hinge', 'penalty': 'l2', 'alpha': 0.001}\n",
    "[46] Mean validation score: 0.500 (std: 0.000): {'loss': 'hinge', 'penalty': 'l1', 'alpha': 0.5}\n",
    "[47] Mean validation score: 0.500 (std: 0.000): {'loss': 'log', 'penalty': 'l1', 'alpha': 0.5}\n",
    "```"
   ]
  },
  {
   "cell_type": "code",
   "execution_count": 17,
   "metadata": {
    "collapsed": false
   },
   "outputs": [
    {
     "name": "stdout",
     "output_type": "stream",
     "text": [
      "[[70902 10205]\n",
      " [  147   607]]\n"
     ]
    }
   ],
   "source": [
    "y_pred_lin = gs_lin.predict(X_train)\n",
    "print(confusion_matrix(y_train, y_pred_lin))"
   ]
  },
  {
   "cell_type": "markdown",
   "metadata": {},
   "source": [
    "Old: \n",
    "\n",
    "```\n",
    "[[63080 18027]\n",
    " [  245   509]]\n",
    "```"
   ]
  },
  {
   "cell_type": "markdown",
   "metadata": {},
   "source": [
    "## Nonlinear SVC"
   ]
  },
  {
   "cell_type": "code",
   "execution_count": null,
   "metadata": {
    "collapsed": false
   },
   "outputs": [],
   "source": [
    "nonlinear_svm = SVC(kernel='rbf', class_weight='balanced', C=1)\n",
    "nonlinear_svm_scores = cross_val_score(nonlinear_svm, X_train, y_train, cv=3)\n",
    "print(nonlinear_svm_scores)\n",
    "print(np.mean(nonlinear_svm_scores))"
   ]
  },
  {
   "cell_type": "code",
   "execution_count": null,
   "metadata": {
    "collapsed": false
   },
   "outputs": [],
   "source": [
    "nonlin_clf = nonlinear_svm\n",
    "nonlin_clf.fit(X_train, y_train)"
   ]
  },
  {
   "cell_type": "code",
   "execution_count": null,
   "metadata": {
    "collapsed": false
   },
   "outputs": [],
   "source": [
    "score = nonlin_clf.score(X_valid, y_valid)\n",
    "y_valid_predicted = nonlin_clf.predict(X_valid)\n",
    "\n",
    "print(\"Validation data shape: {0}\".format(X_valid.shape))\n",
    "print(\"Validation data neg:pos ratio: {0}\".format(VALIDATION_NEG_TO_POS_RATIO))\n",
    "print(\"Validation accuracy: {0}\".format(score))\n",
    "\n",
    "print(confusion_matrix(y_valid, y_valid_predicted))"
   ]
  },
  {
   "cell_type": "markdown",
   "metadata": {},
   "source": [
    "Old SVM nonlin numbers:\n",
    "    \n",
    "```\n",
    "Validation data shape: (266, 10)\n",
    "Validation data neg:pos ratio: 1\n",
    "Validation accuracy: 0.8045112781954887\n",
    "[[107  26]\n",
    " [ 26 107]]\n",
    "```"
   ]
  },
  {
   "cell_type": "code",
   "execution_count": 26,
   "metadata": {
    "collapsed": false
   },
   "outputs": [],
   "source": [
    "# Multiple C confusion matrices.\n",
    "\n",
    "from sklearn.externals.joblib import Parallel, delayed\n",
    "\n",
    "def quick_eval_svc(C):\n",
    "    output = \"\"\n",
    "    output += \"\\nC = {0:10.8f}\\n--------\\n\\n\".format(C)\n",
    "    svc = SVC(kernel='rbf', class_weight='balanced', C=C)\n",
    "    svc.fit(X_train, y_train)\n",
    "    y_valid_pred = svc.predict(X_valid)\n",
    "    y_train_pred = svc.predict(X_train)\n",
    "    output += \"Validation data confusion matrix:\\n\"\n",
    "    output += str(confusion_matrix(y_valid, y_valid_pred))\n",
    "    output += \"\\n\"\n",
    "    output += \"Training data confusion matrix (prone to overfitting):\\n\"\n",
    "    output += str(confusion_matrix(y_train, y_train_pred))\n",
    "    output += \"\\n\"\n",
    "    return output\n",
    "\n",
    "def confusion_search():\n",
    "    Cs = [0.00001, 0.0001, 0.001, 0.005, 0.01, 0.05, 0.1, 0.5, 0.6, 0.7, 0.8, 0.9, 1, 2, 5]\n",
    "    res = Parallel(n_jobs=6)(delayed(quick_eval_svc)(C) for C in Cs)\n",
    "    return res"
   ]
  },
  {
   "cell_type": "code",
   "execution_count": 27,
   "metadata": {
    "collapsed": false
   },
   "outputs": [],
   "source": [
    "results = confusion_search()"
   ]
  },
  {
   "cell_type": "code",
   "execution_count": 28,
   "metadata": {
    "collapsed": false,
    "scrolled": true
   },
   "outputs": [
    {
     "name": "stdout",
     "output_type": "stream",
     "text": [
      "\n",
      "C = 0.00001000\n",
      "--------\n",
      "\n",
      "Validation data confusion matrix:\n",
      "[[133   0]\n",
      " [133   0]]\n",
      "Training data confusion matrix (prone to overfitting):\n",
      "[[81107     0]\n",
      " [  754     0]]\n",
      "\n",
      "\n",
      "C = 0.00010000\n",
      "--------\n",
      "\n",
      "Validation data confusion matrix:\n",
      "[[105  28]\n",
      " [ 25 108]]\n",
      "Training data confusion matrix (prone to overfitting):\n",
      "[[67386 13721]\n",
      " [  171   583]]\n",
      "\n",
      "\n",
      "C = 0.00100000\n",
      "--------\n",
      "\n",
      "Validation data confusion matrix:\n",
      "[[111  22]\n",
      " [ 18 115]]\n",
      "Training data confusion matrix (prone to overfitting):\n",
      "[[68205 12902]\n",
      " [  130   624]]\n",
      "\n",
      "\n",
      "C = 0.00500000\n",
      "--------\n",
      "\n",
      "Validation data confusion matrix:\n",
      "[[120  13]\n",
      " [ 16 117]]\n",
      "Training data confusion matrix (prone to overfitting):\n",
      "[[70683 10424]\n",
      " [  110   644]]\n",
      "\n",
      "\n",
      "C = 0.01000000\n",
      "--------\n",
      "\n",
      "Validation data confusion matrix:\n",
      "[[120  13]\n",
      " [ 16 117]]\n",
      "Training data confusion matrix (prone to overfitting):\n",
      "[[70969 10138]\n",
      " [  105   649]]\n",
      "\n",
      "\n",
      "C = 0.05000000\n",
      "--------\n",
      "\n",
      "Validation data confusion matrix:\n",
      "[[120  13]\n",
      " [ 15 118]]\n",
      "Training data confusion matrix (prone to overfitting):\n",
      "[[72372  8735]\n",
      " [   82   672]]\n",
      "\n",
      "\n",
      "C = 0.10000000\n",
      "--------\n",
      "\n",
      "Validation data confusion matrix:\n",
      "[[121  12]\n",
      " [ 18 115]]\n",
      "Training data confusion matrix (prone to overfitting):\n",
      "[[72817  8290]\n",
      " [   67   687]]\n",
      "\n",
      "\n",
      "C = 0.50000000\n",
      "--------\n",
      "\n",
      "Validation data confusion matrix:\n",
      "[[123  10]\n",
      " [ 25 108]]\n",
      "Training data confusion matrix (prone to overfitting):\n",
      "[[74080  7027]\n",
      " [   40   714]]\n",
      "\n",
      "\n",
      "C = 0.60000000\n",
      "--------\n",
      "\n",
      "Validation data confusion matrix:\n",
      "[[124   9]\n",
      " [ 29 104]]\n",
      "Training data confusion matrix (prone to overfitting):\n",
      "[[74291  6816]\n",
      " [   38   716]]\n",
      "\n",
      "\n",
      "C = 0.70000000\n",
      "--------\n",
      "\n",
      "Validation data confusion matrix:\n",
      "[[123  10]\n",
      " [ 30 103]]\n",
      "Training data confusion matrix (prone to overfitting):\n",
      "[[74413  6694]\n",
      " [   34   720]]\n",
      "\n",
      "\n",
      "C = 0.80000000\n",
      "--------\n",
      "\n",
      "Validation data confusion matrix:\n",
      "[[124   9]\n",
      " [ 30 103]]\n",
      "Training data confusion matrix (prone to overfitting):\n",
      "[[74562  6545]\n",
      " [   33   721]]\n",
      "\n",
      "\n",
      "C = 0.90000000\n",
      "--------\n",
      "\n",
      "Validation data confusion matrix:\n",
      "[[124   9]\n",
      " [ 30 103]]\n",
      "Training data confusion matrix (prone to overfitting):\n",
      "[[74678  6429]\n",
      " [   32   722]]\n",
      "\n",
      "\n",
      "C = 1.00000000\n",
      "--------\n",
      "\n",
      "Validation data confusion matrix:\n",
      "[[125   8]\n",
      " [ 30 103]]\n",
      "Training data confusion matrix (prone to overfitting):\n",
      "[[74798  6309]\n",
      " [   32   722]]\n",
      "\n",
      "\n",
      "C = 2.00000000\n",
      "--------\n",
      "\n",
      "Validation data confusion matrix:\n",
      "[[126   7]\n",
      " [ 38  95]]\n",
      "Training data confusion matrix (prone to overfitting):\n",
      "[[75630  5477]\n",
      " [   24   730]]\n",
      "\n",
      "\n",
      "C = 5.00000000\n",
      "--------\n",
      "\n",
      "Validation data confusion matrix:\n",
      "[[128   5]\n",
      " [ 48  85]]\n",
      "Training data confusion matrix (prone to overfitting):\n",
      "[[76552  4555]\n",
      " [   13   741]]\n",
      "\n"
     ]
    }
   ],
   "source": [
    "for r in results:\n",
    "    print(r)"
   ]
  },
  {
   "cell_type": "markdown",
   "metadata": {},
   "source": [
    "### Grid search for kernelized SVM (expensive to compute)"
   ]
  },
  {
   "cell_type": "code",
   "execution_count": null,
   "metadata": {
    "collapsed": true
   },
   "outputs": [],
   "source": [
    "pg_nonlin = {\n",
    "    'C': [0.0005, 0.001, 0.01, 0.1, 1],\n",
    "}\n",
    "\n",
    "gs_nonlin = GridSearchCV(nonlin_clf, pg_nonlin, cv=None, scoring=score_on_validation, verbose=2)"
   ]
  },
  {
   "cell_type": "code",
   "execution_count": null,
   "metadata": {
    "collapsed": false
   },
   "outputs": [],
   "source": [
    "gs_nonlin.fit(X_train, y_train)"
   ]
  },
  {
   "cell_type": "markdown",
   "metadata": {},
   "source": [
    "Top results from nonlinear SVM grid search (rbf kernel, default settings, checked on 15% validation data set, biased for 1:1 pos/neg labels).\n",
    "Using 10 features.\n",
    "\n",
    "\n",
    "```\n",
    "[0] Mean validation score: 0.824 (std: 0.010): {'C': 0.0005}\n",
    "[1] Mean validation score: 0.811 (std: 0.015): {'C': 0.001}\n",
    "[2] Mean validation score: 0.782 (std: 0.015): {'C': 0.01}\n",
    "[3] Mean validation score: 0.748 (std: 0.007): {'C': 0.1}\n",
    "[4] Mean validation score: 0.733 (std: 0.003): {'C': 0.05}\n",
    "[5] Mean validation score: 0.694 (std: 0.012): {'C': 0.5}\n",
    "[6] Mean validation score: 0.691 (std: 0.010): {'C': 0.75}\n",
    "```"
   ]
  },
  {
   "cell_type": "markdown",
   "metadata": {},
   "source": [
    "Top results from nonlinear SVM grid search (rbf kernel, default settings, ...).\n",
    "Using 20 features.\n",
    "\n",
    "```\n",
    "[0] Mean validation score: 0.860 (std: 0.008): {'C': 0.01}\n",
    "[1] Mean validation score: 0.848 (std: 0.010): {'C': 0.1}\n",
    "[2] Mean validation score: 0.840 (std: 0.004): {'C': 0.001}\n",
    "[3] Mean validation score: 0.836 (std: 0.005): {'C': 0.0005}\n",
    "[4] Mean validation score: 0.796 (std: 0.004): {'C': 1}\n",
    "```"
   ]
  },
  {
   "cell_type": "code",
   "execution_count": null,
   "metadata": {
    "collapsed": false,
    "scrolled": true
   },
   "outputs": [],
   "source": [
    "report(gs_nonlin.grid_scores_, n_top=250)"
   ]
  },
  {
   "cell_type": "code",
   "execution_count": null,
   "metadata": {
    "collapsed": false
   },
   "outputs": [],
   "source": [
    "y_pred_nonlin = gs_nonlin.predict(X_train)\n",
    "print(confusion_matrix(y_train, y_pred_nonlin))"
   ]
  },
  {
   "cell_type": "markdown",
   "metadata": {},
   "source": [
    "## Old metrics code"
   ]
  },
  {
   "cell_type": "code",
   "execution_count": null,
   "metadata": {
    "collapsed": false
   },
   "outputs": [],
   "source": [
    "def train_metrics(clf, X, y):\n",
    "    clf.fit(X, y)\n",
    "    y_pred = clf.predict(X)\n",
    "    print(average_precision_score(y, y_pred, average='micro'))\n",
    "    print(average_precision_score(y, y_pred, average='macro'))\n",
    "    print(average_precision_score(y, y_pred, average='weighted'))\n",
    "#     print(\"F1:        {0:.4f}\".format(f1_score(y, y_pred, pos_label='true\\n')))\n",
    "#     print(\"Precision: {0:.4f}\".format(precision_score(y, y_pred)))\n",
    "#     print(\"Accuracy:  {0:.4f}\".format(accuracy_score(y, y_pred)))\n",
    "    print(\"Confusion matrix:\")\n",
    "    print(confusion_matrix(y, y_pred, labels=None))"
   ]
  },
  {
   "cell_type": "code",
   "execution_count": null,
   "metadata": {
    "collapsed": false
   },
   "outputs": [],
   "source": [
    "# pred_y = clf.predict(X)\n",
    "#clf = SGDClassifier(class_weight='balanced')\n",
    "train_metrics(LinearSVC(class_weight='balanced'), X, y_raw)"
   ]
  },
  {
   "cell_type": "code",
   "execution_count": null,
   "metadata": {
    "collapsed": false
   },
   "outputs": [],
   "source": [
    "train_metrics(SVC(kernel='rbf', class_weight='balanced'), X, y_raw)"
   ]
  }
 ],
 "metadata": {
  "kernelspec": {
   "display_name": "Python 3",
   "language": "python",
   "name": "python3"
  },
  "language_info": {
   "codemirror_mode": {
    "name": "ipython",
    "version": 3
   },
   "file_extension": ".py",
   "mimetype": "text/x-python",
   "name": "python",
   "nbconvert_exporter": "python",
   "pygments_lexer": "ipython3",
   "version": "3.5.1"
  }
 },
 "nbformat": 4,
 "nbformat_minor": 0
}
