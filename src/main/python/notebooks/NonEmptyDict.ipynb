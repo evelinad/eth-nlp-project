{
 "cells": [
  {
   "cell_type": "code",
   "execution_count": 3,
   "metadata": {
    "collapsed": false
   },
   "outputs": [],
   "source": [
    "import pickle\n",
    "import numpy as np\n",
    "import nltk\n",
    "from stop_words import get_stop_words\n",
    "from nltk.stem import WordNetLemmatizer\n",
    "from nltk.corpus import brown\n",
    "from nltk.corpus import reuters\n",
    "import sys\n",
    "import re"
   ]
  },
  {
   "cell_type": "code",
   "execution_count": 13,
   "metadata": {
    "collapsed": true
   },
   "outputs": [],
   "source": [
    "csv_file_name_train = \"../../../../data/lululu_queries.csv\"\n",
    "#csv_file_name_test = \"../../../../data/lululu_queries.csv\""
   ]
  },
  {
   "cell_type": "code",
   "execution_count": 5,
   "metadata": {
    "collapsed": false
   },
   "outputs": [],
   "source": [
    "# can take some time ...\n",
    "oo_wordlist = set(w.lower() for w in nltk.corpus.words.words())\n",
    "brown_wordlist = set(w.lower() for w in brown.words())\n",
    "reuters_wordlist = set(w.lower() for w in reuters.words())\n",
    "\n",
    "wordlist = (oo_wordlist.union(brown_wordlist)).union(reuters_wordlist)\n",
    "stop_words = get_stop_words('en')\n",
    "wnl = WordNetLemmatizer()"
   ]
  },
  {
   "cell_type": "code",
   "execution_count": 14,
   "metadata": {
    "collapsed": true
   },
   "outputs": [],
   "source": [
    "def separateString(string):\n",
    "    words = []\n",
    "    input = string\n",
    "    clean = re.sub(\"[^\\d[a-z]]*\", \"\", string.lower().strip())\n",
    "    return seperateStringRec(clean, clean, words, clean)\n",
    "    \n",
    "def seperateStringRec(inp, clean, words,lastLarge=None):\n",
    "    # Index each character in the input string\n",
    "    for ind in range(len(inp)):\n",
    "        # Build a segment\n",
    "        built = partition(inp, ind)\n",
    "        # If only one letter remains, steal a letter from the previous match\n",
    "        if len(built) == 1:\n",
    "            if (len(words) == 0 or len(words[-1]) == 0):\n",
    "                return None\n",
    "            built = words[-1][-1] + lastLarge\n",
    "            words[-1] = words[-1][0:-1]\n",
    "            return seperateStringRec(built,clean,words,lastLarge)\n",
    "        # Check if segment ends with a digit. Separate it if it does.\n",
    "        if re.match('\\d+$', built):\n",
    "            built = re.sub(\"([^\\d])\\d\", \"\", built)\n",
    "            words.append(built)\n",
    "            return seperateStringRec(inp.replace(built, '', 1),clean,words,lastLarge)\n",
    "        # It does not end with a digit\n",
    "        else:\n",
    "            if built in wordlist:\n",
    "                words.append(built)\n",
    "                # Check if list of separations joined together is equal to original\n",
    "                if ''.join(words) == clean:\n",
    "                    return ' '.join(words)\n",
    "                else:\n",
    "                    # Loop back through to separate more\n",
    "                    lastLarge = inp.replace(built, '', 1)\n",
    "                    return seperateStringRec(inp.replace(built, '', 1),clean,words,lastLarge)\n",
    "\n",
    "def partition(value, index):\n",
    "    return value[0:len(value) - index]"
   ]
  },
  {
   "cell_type": "code",
   "execution_count": 10,
   "metadata": {
    "collapsed": false
   },
   "outputs": [],
   "source": [
    "def preprareForSplit(word):\n",
    "    temp = re.sub(\"[^[a-z]]*\", \" \", word.lower().strip()).split(\" \")\n",
    "    return \" \".join([word for word in temp if len(word)>1])\n",
    "\n",
    "\n",
    "def clean(word):\n",
    "    return re.sub(\"[^\\d[a-z]]*\", \" \", word.lower().strip())\n",
    "\n",
    "def keepWord(word):\n",
    "    if word in stop_words:\n",
    "        return False\n",
    "    lemma = wnl.lemmatize(word) \n",
    "    if lemma in wordlist:\n",
    "        return True\n",
    "    else:\n",
    "        if len(word)>3 and separateString(word) is not None:\n",
    "            return True\n",
    "        else:\n",
    "            return False\n",
    "\n",
    "def load_training_data(csv_file_name, undersample=False):\n",
    "    \"\"\"Loads a CSV file produced by the Java feature generator.\"\"\"\n",
    "    X_raw = []\n",
    "    y_raw = []\n",
    "    with open(csv_file_name, 'r') as f:\n",
    "        for line_number, line in enumerate(f.readlines()):\n",
    "            parts = line[:-1].split(\",\")\n",
    "            # label\n",
    "            y_raw.append(int(parts[0]))\n",
    "            # query string\n",
    "            clean_string = clean(parts[1])\n",
    "            if clean_string is not None:\n",
    "                query_temp = clean_string.split(\" \")\n",
    "                query = [word for word in query_temp]\n",
    "                if len(query_temp) == 1 and clean_string not in wordlist:\n",
    "                    prepare = preprareForSplit(parts[1])\n",
    "                    if (len(prepare) > 2 and separateString(prepare) is not None):\n",
    "                        query_temp = separateString(prepare).split(\" \")\n",
    "                        query = [word for word in query_temp if keepWord(word)]\n",
    "\n",
    "                X_raw.append(query)\n",
    "            else:\n",
    "                X_raw.append(\"\")\n",
    "        X_raw = np.array(X_raw)\n",
    "        y_raw = np.array(y_raw)\n",
    "\n",
    "        print(\"Feature shape: {0}\".format(X_raw.shape))\n",
    "        print(\"Label shape: {0}\".format(y_raw.shape))\n",
    "        return X_raw, y_raw"
   ]
  },
  {
   "cell_type": "code",
   "execution_count": 15,
   "metadata": {
    "collapsed": false
   },
   "outputs": [
    {
     "name": "stdout",
     "output_type": "stream",
     "text": [
      "['swaps', 'advanced', 'adapters']\n",
      "['swaps', 'advanced', 'adapters']\n"
     ]
    }
   ],
   "source": [
    "string = \"s10e6swapsadvancedadapters\"\n",
    "clean_string = clean(string)\n",
    "if clean_string is not None:\n",
    "    query_temp = clean_string.split(\" \")\n",
    "    if len(query_temp) == 1 and clean_string not in wordlist:\n",
    "        prepare = preprareForSplit(string)\n",
    "        if (len(prepare) > 2 and separateString(prepare) is not None):\n",
    "            query_temp = separateString(preprareForSplit(string)).split(\" \")\n",
    "    print(query_temp)\n",
    "    query = [word for word in query_temp if keepWord(word)]\n",
    "    print(query)"
   ]
  },
  {
   "cell_type": "code",
   "execution_count": 16,
   "metadata": {
    "collapsed": false
   },
   "outputs": [],
   "source": [
    "def isWordInVocab(word):\n",
    "    if word in wordlist:\n",
    "        return True\n",
    "    else:\n",
    "        return False\n",
    "    \n",
    "def isStopword(word):\n",
    "    if word in stop_words:\n",
    "        return True\n",
    "    else:\n",
    "        return False"
   ]
  },
  {
   "cell_type": "code",
   "execution_count": 7,
   "metadata": {
    "collapsed": false
   },
   "outputs": [],
   "source": []
  },
  {
   "cell_type": "code",
   "execution_count": 17,
   "metadata": {
    "collapsed": false
   },
   "outputs": [
    {
     "name": "stdout",
     "output_type": "stream",
     "text": [
      "Feature shape: (246,)\n",
      "Label shape: (246,)\n",
      "We have 26 positive labels in training set.\n",
      "We have 220 negative labels in training set.\n"
     ]
    }
   ],
   "source": [
    "X_train, y_train = load_training_data(csv_file_name_train,undersample=True)\n",
    "#X_valid, y_valid = load_training_data(csv_file_name_test,undersample=True)\n",
    "\n",
    "\n",
    "train_pos = np.sum(y_train == 1)\n",
    "train_neg = len(y_train)-train_pos\n",
    "print(\"We have {0} positive labels in training set.\".format(train_pos))\n",
    "print(\"We have {0} negative labels in training set.\".format(train_neg))"
   ]
  },
  {
   "cell_type": "code",
   "execution_count": 19,
   "metadata": {
    "collapsed": false
   },
   "outputs": [
    {
     "name": "stdout",
     "output_type": "stream",
     "text": [
      "this metric would: \n",
      "classify 0 empty tweets as empty\n",
      "misclassify 0 empty tweets as empty\n"
     ]
    }
   ],
   "source": [
    "classify_empty_as_nonempty = classify_nonempty_as_nonempty = 0\n",
    "for i in range(len(y_train)):\n",
    "    query_string = \" \".join(X_train[i])\n",
    "    if query_string is not \"\":\n",
    "        if y_train[i] == 1:\n",
    "            classify_empty_as_nonempty += 1\n",
    "            #print(\"mcAe: {0}\".format(X_train[i]))\n",
    "        else:\n",
    "            classify_nonempty_as_nonempty += 1\n",
    "    #else: \n",
    "    #    #if y_train[i] == 0:\n",
    "    #        #print(\"mcAn: {0}\".format(X_train[i]))        \n",
    "print(\"this metric would: \")\n",
    "print(\"classify {0} empty tweets as empty\".format(train_pos-classify_empty_as_nonempty))\n",
    "print(\"misclassify {0} empty tweets as empty\".format(train_neg-classify_nonempty_as_nonempty))\n",
    "    "
   ]
  },
  {
   "cell_type": "code",
   "execution_count": 21,
   "metadata": {
    "collapsed": false
   },
   "outputs": [
    {
     "name": "stdout",
     "output_type": "stream",
     "text": [
      "245\n"
     ]
    }
   ],
   "source": [
    "train_file = open('../../../../data/altered_queries_lululu_dict.csv', 'w+')\n",
    "for i in range(len(y_train)):\n",
    "    query_string = \" \".join(X_train[i])\n",
    "    if query_string == \"\":\n",
    "        query_string = \"-\"\n",
    "    print(\"{0},{1}\".format(y_train[i],query_string), file=train_file)\n",
    "print(i)\n"
   ]
  },
  {
   "cell_type": "code",
   "execution_count": null,
   "metadata": {
    "collapsed": false
   },
   "outputs": [],
   "source": []
  },
  {
   "cell_type": "code",
   "execution_count": null,
   "metadata": {
    "collapsed": false
   },
   "outputs": [],
   "source": []
  },
  {
   "cell_type": "code",
   "execution_count": 9,
   "metadata": {
    "collapsed": false
   },
   "outputs": [
    {
     "data": {
      "text/plain": [
       "'\\ndef load_training_data(csv_file_name, undersample=False):\\n    X_raw = []\\n    y_raw = []\\n    with open(csv_file_name, \\'r\\') as f:\\n        for line_number, line in enumerate(f.readlines()):\\n            parts = line[:-1].split(\",\")\\n            # label\\n            y_raw.append(int(parts[0]))\\n            # query string\\n            query = parts[1].split(\" \")\\n            if len(query) == 1 and parts[1] not in model:\\n                if (separateString(parts[1]) is not None):\\n                    query_temp = separateString(parts[1]).split(\" \")\\n                    query = [word for word in query_temp if (len(word) > 2 and word not in stop_words)]\\n            X_raw.append(query)\\n        X_raw = np.array(X_raw)\\n        y_raw = np.array(y_raw)\\n\\n        print(\"Feature shape: {0}\".format(X_raw.shape))\\n        print(\"Label shape: {0}\".format(y_raw.shape))\\n        return X_raw, y_raw\\n'"
      ]
     },
     "execution_count": 9,
     "metadata": {},
     "output_type": "execute_result"
    }
   ],
   "source": [
    "\"\"\"\n",
    "def load_training_data(csv_file_name, undersample=False):\n",
    "    X_raw = []\n",
    "    y_raw = []\n",
    "    with open(csv_file_name, 'r') as f:\n",
    "        for line_number, line in enumerate(f.readlines()):\n",
    "            parts = line[:-1].split(\",\")\n",
    "            # label\n",
    "            y_raw.append(int(parts[0]))\n",
    "            # query string\n",
    "            query = parts[1].split(\" \")\n",
    "            if len(query) == 1 and parts[1] not in model:\n",
    "                if (separateString(parts[1]) is not None):\n",
    "                    query_temp = separateString(parts[1]).split(\" \")\n",
    "                    query = [word for word in query_temp if (len(word) > 2 and word not in stop_words)]\n",
    "            X_raw.append(query)\n",
    "        X_raw = np.array(X_raw)\n",
    "        y_raw = np.array(y_raw)\n",
    "\n",
    "        print(\"Feature shape: {0}\".format(X_raw.shape))\n",
    "        print(\"Label shape: {0}\".format(y_raw.shape))\n",
    "        return X_raw, y_raw\n",
    "\"\"\""
   ]
  },
  {
   "cell_type": "code",
   "execution_count": null,
   "metadata": {
    "collapsed": true
   },
   "outputs": [],
   "source": [
    "def separateString(string):\n",
    "    words = []\n",
    "    input = string\n",
    "    clean = re.sub(\"[^\\d[a-z]]*\", \"\", string.lower().strip())\n",
    "    return seperateStringRec(clean, clean, words, clean)\n",
    "    \n",
    "def seperateStringRec(inp, clean, words,lastLarge=None):\n",
    "    # Index each character in the input string\n",
    "    for ind in range(len(inp)):\n",
    "        # Build a segment\n",
    "        built = partition(inp, ind)\n",
    "        # If only one letter remains, steal a letter from the previous match\n",
    "        if len(built) == 1:\n",
    "            if (len(words) == 0 or len(words[-1]) == 0):\n",
    "                return None\n",
    "            built = words[-1][-1] + lastLarge\n",
    "            words[-1] = words[-1][0:-1]\n",
    "            return seperateStringRec(built,clean,words,lastLarge)\n",
    "        # Check if segment ends with a digit. Separate it if it does.\n",
    "        if re.match('\\d+$', built):\n",
    "            built = re.sub(\"([^\\d])\\d\", \"\", built)\n",
    "            words.append(built)\n",
    "            return seperateStringRec(inp.replace(built, '', 1),clean,words,lastLarge)\n",
    "        # It does not end with a digit\n",
    "        else:\n",
    "            if built in wordlist:\n",
    "                words.append(built)\n",
    "                # Check if list of separations joined together is equal to original\n",
    "                if ''.join(words) == clean:\n",
    "                    return ' '.join(words)\n",
    "                else:\n",
    "                    # Loop back through to separate more\n",
    "                    lastLarge = inp.replace(built, '', 1)\n",
    "                    return seperateStringRec(inp.replace(built, '', 1),clean,words,lastLarge)\n",
    "\n",
    "def partition(value, index):\n",
    "    return value[0:len(value) - index]\n",
    "\n",
    "def preprareForSplit(word):\n",
    "    temp = re.sub(\"[^[a-z]]*\", \" \", word.lower().strip()).split(\" \")\n",
    "    return \" \".join([word for word in temp if len(word)>1])\n",
    "\n",
    "\n",
    "def clean(word):\n",
    "    return re.sub(\"[^\\d[a-z]]*\", \" \", word.lower().strip())\n",
    "\n",
    "def keepWord(word):\n",
    "    if word in stop_words:\n",
    "        return False\n",
    "    lemma = wnl.lemmatize(word) \n",
    "    if lemma in wordlist:\n",
    "        return True\n",
    "    else:\n",
    "        if len(word)>3 and separateString(word) is not None:\n",
    "            return True\n",
    "        else:\n",
    "            return False\n",
    "\n",
    "def load_training_data(csv_file_name, undersample=False):\n",
    "    \"\"\"Loads a CSV file produced by the Java feature generator.\"\"\"\n",
    "    X_raw = []\n",
    "    y_raw = []\n",
    "    with open(csv_file_name, 'r') as f:\n",
    "        for line_number, line in enumerate(f.readlines()):\n",
    "            parts = line[:-1].split(\",\")\n",
    "            # label\n",
    "            y_raw.append(int(parts[0]))\n",
    "            # query string\n",
    "            clean_string = clean(parts[1])\n",
    "            if clean_string is not None:\n",
    "                query_temp = clean_string.split(\" \")\n",
    "                if len(query_temp) == 1 and clean_string not in wordlist:\n",
    "                    prepare = preprareForSplit(parts[1])\n",
    "                    if (len(prepare) > 2 and separateString(prepare) is not None):\n",
    "                        query_temp = separateString(prepare).split(\" \")\n",
    "                query = [word for word in query_temp if keepWord(word)]\n",
    "                X_raw.append(query)\n",
    "            else:\n",
    "                X_raw.append(\"\")\n",
    "        X_raw = np.array(X_raw)\n",
    "        y_raw = np.array(y_raw)\n",
    "\n",
    "        print(\"Feature shape: {0}\".format(X_raw.shape))\n",
    "        print(\"Label shape: {0}\".format(y_raw.shape))\n",
    "        return X_raw, y_raw"
   ]
  },
  {
   "cell_type": "code",
   "execution_count": 372,
   "metadata": {
    "collapsed": false
   },
   "outputs": [
    {
     "data": {
      "text/plain": [
       "'toshiba'"
      ]
     },
     "execution_count": 372,
     "metadata": {},
     "output_type": "execute_result"
    }
   ],
   "source": [
    "wnl.lemmatize(\"toshiba\")"
   ]
  },
  {
   "cell_type": "code",
   "execution_count": 373,
   "metadata": {
    "collapsed": false
   },
   "outputs": [
    {
     "data": {
      "text/plain": [
       "True"
      ]
     },
     "execution_count": 373,
     "metadata": {},
     "output_type": "execute_result"
    }
   ],
   "source": [
    "\"toshiba\" in reuters_wordlist"
   ]
  },
  {
   "cell_type": "code",
   "execution_count": 374,
   "metadata": {
    "collapsed": false
   },
   "outputs": [
    {
     "name": "stdout",
     "output_type": "stream",
     "text": [
      "['aloha', 'airlines', 'pbase']\n"
     ]
    }
   ],
   "source": [
    "query_temp = [\"aloha\", \"airlines\", \"pbase\" ]\n",
    "query = [clean(word) for word in query_temp if keepWord(word)]\n",
    "print(query)"
   ]
  }
 ],
 "metadata": {
  "kernelspec": {
   "display_name": "Python 3",
   "language": "python",
   "name": "python3"
  },
  "language_info": {
   "codemirror_mode": {
    "name": "ipython",
    "version": 3
   },
   "file_extension": ".py",
   "mimetype": "text/x-python",
   "name": "python",
   "nbconvert_exporter": "python",
   "pygments_lexer": "ipython3",
   "version": "3.5.1"
  }
 },
 "nbformat": 4,
 "nbformat_minor": 0
}
