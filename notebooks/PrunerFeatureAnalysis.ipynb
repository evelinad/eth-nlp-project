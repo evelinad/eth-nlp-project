{
 "cells": [
  {
   "cell_type": "code",
   "execution_count": 1,
   "metadata": {
    "collapsed": true
   },
   "outputs": [],
   "source": [
    "import numpy as np\n",
    "import pandas as pd"
   ]
  },
  {
   "cell_type": "code",
   "execution_count": 2,
   "metadata": {
    "collapsed": false
   },
   "outputs": [],
   "source": [
    "# Where we had our Scala program dump all the training data.\n",
    "csv_file_name = \"../data/all-candidates-4-10-14-10.csv\"\n",
    "\n",
    "# The names of the columns in the CSV file. Should update if more features become available.\n",
    "feature_count = 10\n",
    "col_names = ['entity_id', 'mention', 'mention_start', 'mention_end', 'mention_length',\n",
    "             'featureStartFlag']\n",
    "feature_names = ['f%d' % f for f in range(feature_count)]\n",
    "col_names += feature_names\n",
    "col_names += ['featureEndFlag', 'relevant']\n",
    "\n",
    "#train_data = pd.read_csv(csv_file_name, true_values=['true'], false_values=['false'],\n",
    "#                        names=col_names)"
   ]
  },
  {
   "cell_type": "code",
   "execution_count": 40,
   "metadata": {
    "collapsed": false
   },
   "outputs": [
    {
     "name": "stdout",
     "output_type": "stream",
     "text": [
      "Import was successful.\n",
      "Feature shape: (43548, 10)\n",
      "Label shape: (43548,)\n"
     ]
    }
   ],
   "source": [
    "X_raw = []\n",
    "y_raw = []\n",
    "\n",
    "with open(csv_file_name, 'r') as f:\n",
    "    bad_lines = 0\n",
    "    for line_number, line in enumerate(f.readlines()):\n",
    "        if bad_lines > 10:\n",
    "            print(\"Too many bad lines. The parsing code is bugged or the \"\n",
    "                  \"CSV is badly formatted. Get yo shit together fam.\")\n",
    "            break\n",
    "            \n",
    "        parts = line[:-1].split(\",\")\n",
    "        if len(parts) != 18:\n",
    "            bad_lines += 1\n",
    "            print(\"Skipping bad line\")\n",
    "            continue\n",
    "        \n",
    "        # Example CSV line, as of May 10.\n",
    "        # 364646, lumet familt, 7, 19, 12, featureStart, [feature_count features], featureEnd, true\n",
    "        try:\n",
    "            # Not used at the moment.\n",
    "            # meta = parts[:5]\n",
    "            features = parts[6:6 + feature_count]\n",
    "            label = parts[-1]\n",
    "            features_np = np.array([float(f) for f in features])\n",
    "            X_raw.append(features_np)\n",
    "            y_raw.append(1 if label == 'true' else 0)\n",
    "        except ValueError as e:\n",
    "            print(\"Could not parse data line {0}: {1}.\".format(line_number, line))\n",
    "            print(e)\n",
    "            bad_lines += 1\n",
    "            \n",
    "    X_raw = np.array(X_raw)\n",
    "    y_raw = np.array(y_raw)\n",
    "        \n",
    "    if bad_lines > 0:\n",
    "        print(\"Bad lines: {0}\".format(bad_lines))\n",
    "    else:\n",
    "        print(\"Import was successful.\")\n",
    "        \n",
    "    print(\"Feature shape: {0}\".format(X_raw.shape))\n",
    "    print(\"Label shape: {0}\".format(y_raw.shape))\n",
    "    \n",
    "# Hacky imputation.\n",
    "X_raw[np.isnan(X_raw)] = 0.0\n",
    "# TODO(andrei): Maybe set this to a very large constant.\n",
    "X_raw[np.isinf(X_raw)] = 0.0"
   ]
  },
  {
   "cell_type": "code",
   "execution_count": 41,
   "metadata": {
    "collapsed": false
   },
   "outputs": [
    {
     "name": "stdout",
     "output_type": "stream",
     "text": [
      "Raw feature max vals: [  3.39000000e+08   1.00000000e+02   2.00000000e+01   2.00000000e+01\n",
      "   1.57500000e+01   0.00000000e+00   2.35000000e+01   1.00000000e+00\n",
      "   2.50000000e+01   4.20000000e+01]\n",
      "Raw feature min vals: [ 24.   1.   0.   0.   0.   0.   0.   0.  13.  42.]\n",
      "Raw feature mean vals: [  2.26494924e+07   9.34776568e+01   4.07127626e+00   3.98202806e+00\n",
      "   1.40936438e-02   0.00000000e+00   6.49731911e+00   1.58556306e-01\n",
      "   2.30570708e+01   4.20000000e+01]\n",
      "Raw feature stds: [  4.93288879e+07   2.24788304e+01   2.10829459e+00   2.17877619e+00\n",
      "   1.74351238e-01   0.00000000e+00   1.69935778e+00   2.20900887e-01\n",
      "   2.74772698e+00   0.00000000e+00]\n",
      "NaNs: [0 0 0 0 0 0 0 0 0 0]\n",
      "Infinities: [0 0 0 0 0 0 0 0 0 0]\n"
     ]
    }
   ],
   "source": [
    "# old_opts = np.get_printoptions()\n",
    "# np.set_printoptions(threshold=np.nan)\n",
    "\n",
    "print(\"Raw feature max vals: {0}\".format(np.max(X_raw, axis=0)))\n",
    "print(\"Raw feature min vals: {0}\".format(np.min(X_raw, axis=0)))\n",
    "print(\"Raw feature mean vals: {0}\".format(np.mean(X_raw, axis=0)))\n",
    "print(\"Raw feature stds: {0}\".format(np.std(X_raw, axis=0)))\n",
    "\n",
    "print(\"NaNs: {0}\".format(np.sum(np.isnan(X_raw), axis=0)))\n",
    "print(\"Infinities: {0}\".format(np.sum(np.isinf(X_raw), axis=0)))\n",
    "\n",
    "# np.set_printoptions(**old_opts)"
   ]
  },
  {
   "cell_type": "code",
   "execution_count": 42,
   "metadata": {
    "collapsed": false
   },
   "outputs": [
    {
     "name": "stdout",
     "output_type": "stream",
     "text": [
      "[-0.77989972 -0.77989972 -0.17124558 ...,  0.58752018  0.24041326\n",
      " -0.05640984]\n",
      "[ 1.93966831  1.93966831  0.37219353 ...,  1.16820207  0.68798874\n",
      "  0.4059836 ]\n"
     ]
    },
    {
     "name": "stderr",
     "output_type": "stream",
     "text": [
      "/Users/andrei/anaconda3/envs/cil/lib/python3.5/site-packages/sklearn/preprocessing/data.py:167: UserWarning: Numerical issues were encountered when centering the data and might not be solved. Dataset may contain too large values. You may need to prescale your features.\n",
      "  warnings.warn(\"Numerical issues were encountered \"\n"
     ]
    }
   ],
   "source": [
    "from sklearn import preprocessing\n",
    "\n",
    "X = preprocessing.scale(X_raw)\n",
    "print(np.mean(X, axis=1))\n",
    "print(np.std(X, axis=1))"
   ]
  },
  {
   "cell_type": "code",
   "execution_count": 43,
   "metadata": {
    "collapsed": false
   },
   "outputs": [
    {
     "name": "stdout",
     "output_type": "stream",
     "text": [
      "[ 0.85384615  0.81595867  0.8326062   0.8196119   0.81846366]\n",
      "0.828097315168\n"
     ]
    }
   ],
   "source": [
    "from sklearn.cross_validation import cross_val_score\n",
    "from sklearn.linear_model import SGDClassifier\n",
    "from sklearn.metrics import *\n",
    "from sklearn.svm import SVC, SVR, LinearSVC, LinearSVR\n",
    "\n",
    "\n",
    "# The \"class_weight='balanced'\" param tells the SVM to give adaptive weights\n",
    "# to the labels from each class, in order to account for imbalanced data.\n",
    "\n",
    "# scores = cross_val_score(SGDClassifier(class_weight='balanced'), X, y_raw, cv=10)\n",
    "scores = cross_val_score(LinearSVC(class_weight='balanced'), X, y_raw, cv=5)\n",
    "print(scores)\n",
    "print(np.mean(scores))"
   ]
  },
  {
   "cell_type": "code",
   "execution_count": 8,
   "metadata": {
    "collapsed": false
   },
   "outputs": [
    {
     "name": "stdout",
     "output_type": "stream",
     "text": [
      "[ 0.78392652  0.73765786  0.76337543  0.71156275  0.76036284]\n",
      "0.751377082103\n"
     ]
    }
   ],
   "source": [
    "nonlinear_svm = SVC(kernel='rbf', class_weight='balanced')\n",
    "nonlinear_svm_scores = cross_val_score(nonlinear_svm, X, y_raw, cv=5)\n",
    "print(nonlinear_svm_scores)\n",
    "print(np.mean(nonlinear_svm_scores))"
   ]
  },
  {
   "cell_type": "code",
   "execution_count": 44,
   "metadata": {
    "collapsed": false
   },
   "outputs": [],
   "source": [
    "def train_metrics(clf, X, y):\n",
    "    clf.fit(X, y)\n",
    "    y_pred = clf.predict(X)\n",
    "    print(average_precision_score(y, y_pred, average='micro'))\n",
    "    print(average_precision_score(y, y_pred, average='macro'))\n",
    "    print(average_precision_score(y, y_pred, average='weighted'))\n",
    "#     print(\"F1:        {0:.4f}\".format(f1_score(y, y_pred, pos_label='true\\n')))\n",
    "#     print(\"Precision: {0:.4f}\".format(precision_score(y, y_pred)))\n",
    "#     print(\"Accuracy:  {0:.4f}\".format(accuracy_score(y, y_pred)))\n",
    "    print(\"Confusion matrix:\")\n",
    "    print(confusion_matrix(y, y_pred, labels=None))"
   ]
  },
  {
   "cell_type": "code",
   "execution_count": 45,
   "metadata": {
    "collapsed": false
   },
   "outputs": [
    {
     "name": "stdout",
     "output_type": "stream",
     "text": [
      "0.317132474404\n",
      "0.317132474404\n",
      "0.317132474404\n",
      "Confusion matrix:\n",
      "[[35988  7105]\n",
      " [  185   270]]\n"
     ]
    }
   ],
   "source": [
    "# pred_y = clf.predict(X)\n",
    "#clf = SGDClassifier(class_weight='balanced')\n",
    "train_metrics(LinearSVC(class_weight='balanced'), X, y_raw)"
   ]
  },
  {
   "cell_type": "code",
   "execution_count": 46,
   "metadata": {
    "collapsed": false
   },
   "outputs": [
    {
     "name": "stdout",
     "output_type": "stream",
     "text": [
      "0.44347221463\n",
      "0.44347221463\n",
      "0.44347221463\n",
      "Confusion matrix:\n",
      "[[32370 10723]\n",
      " [   68   387]]\n"
     ]
    }
   ],
   "source": [
    "train_metrics(SVC(kernel='rbf', class_weight='balanced'), X, y_raw)"
   ]
  },
  {
   "cell_type": "code",
   "execution_count": 28,
   "metadata": {
    "collapsed": false
   },
   "outputs": [
    {
     "data": {
      "text/plain": [
       "'1.55'"
      ]
     },
     "execution_count": 28,
     "metadata": {},
     "output_type": "execute_result"
    }
   ],
   "source": [
    "\"{0:.2f}\".format(1.555)"
   ]
  },
  {
   "cell_type": "code",
   "execution_count": null,
   "metadata": {
    "collapsed": true
   },
   "outputs": [],
   "source": []
  }
 ],
 "metadata": {
  "kernelspec": {
   "display_name": "Python 3",
   "language": "python",
   "name": "python3"
  },
  "language_info": {
   "codemirror_mode": {
    "name": "ipython",
    "version": 3
   },
   "file_extension": ".py",
   "mimetype": "text/x-python",
   "name": "python",
   "nbconvert_exporter": "python",
   "pygments_lexer": "ipython3",
   "version": "3.5.1"
  }
 },
 "nbformat": 4,
 "nbformat_minor": 0
}
