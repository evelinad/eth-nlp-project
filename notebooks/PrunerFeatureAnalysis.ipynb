{
 "cells": [
  {
   "cell_type": "code",
   "execution_count": 1,
   "metadata": {
    "collapsed": true
   },
   "outputs": [],
   "source": [
    "import numpy as np\n",
    "import pandas as pd"
   ]
  },
  {
   "cell_type": "code",
   "execution_count": 2,
   "metadata": {
    "collapsed": false
   },
   "outputs": [],
   "source": [
    "# Where we had our Scala program dump all the training data.\n",
    "csv_file_name = \"../data/all-candidates-4-10-14-10.csv\"\n",
    "\n",
    "# The names of the columns in the CSV file. Should update if more features become available.\n",
    "feature_count = 10\n",
    "col_names = ['entity_id', 'mention', 'mention_start', 'mention_end', 'mention_length',\n",
    "             'featureStartFlag']\n",
    "feature_names = ['f%d' % f for f in range(feature_count)]\n",
    "col_names += feature_names\n",
    "col_names += ['featureEndFlag', 'relevant']\n",
    "\n",
    "#train_data = pd.read_csv(csv_file_name, true_values=['true'], false_values=['false'],\n",
    "#                        names=col_names)"
   ]
  },
  {
   "cell_type": "code",
   "execution_count": 3,
   "metadata": {
    "collapsed": false
   },
   "outputs": [
    {
     "name": "stdout",
     "output_type": "stream",
     "text": [
      "Import was successful.\n",
      "Feature shape: (43548, 10)\n",
      "Label shape: (43548,)\n"
     ]
    }
   ],
   "source": [
    "X_raw = []\n",
    "y_raw = []\n",
    "\n",
    "with open(csv_file_name, 'r') as f:\n",
    "    bad_lines = 0\n",
    "    for line_number, line in enumerate(f.readlines()):\n",
    "        if bad_lines > 10:\n",
    "            print(\"Too many bad lines. The parsing code is bugged or the \"\n",
    "                  \"CSV is badly formatted. Get yo shit together fam.\")\n",
    "            break\n",
    "            \n",
    "        parts = line[:-1].split(\",\")\n",
    "        if len(parts) != 18:\n",
    "            bad_lines += 1\n",
    "            print(\"Skipping bad line\")\n",
    "            continue\n",
    "        \n",
    "        # Example CSV line, as of May 10.\n",
    "        # 364646, lumet familt, 7, 19, 12, featureStart, [feature_count features], featureEnd, true\n",
    "        try:\n",
    "            # Not used at the moment.\n",
    "            # meta = parts[:5]\n",
    "            features = parts[6:6 + feature_count]\n",
    "            label = parts[-1]\n",
    "            features_np = np.array([float(f) for f in features])\n",
    "            X_raw.append(features_np)\n",
    "            y_raw.append(1 if label == 'true' else 0)\n",
    "        except ValueError as e:\n",
    "            print(\"Could not parse data line {0}: {1}.\".format(line_number, line))\n",
    "            print(e)\n",
    "            bad_lines += 1\n",
    "            \n",
    "    X_raw = np.array(X_raw)\n",
    "    y_raw = np.array(y_raw)\n",
    "        \n",
    "    if bad_lines > 0:\n",
    "        print(\"Bad lines: {0}\".format(bad_lines))\n",
    "    else:\n",
    "        print(\"Import was successful.\")\n",
    "        \n",
    "    print(\"Feature shape: {0}\".format(X_raw.shape))\n",
    "    print(\"Label shape: {0}\".format(y_raw.shape))\n",
    "    \n",
    "# Hacky imputation.\n",
    "X_raw[np.isnan(X_raw)] = 0.0\n",
    "# TODO(andrei): Maybe set this to a very large constant.\n",
    "X_raw[np.isinf(X_raw)] = 0.0"
   ]
  },
  {
   "cell_type": "code",
   "execution_count": 5,
   "metadata": {
    "collapsed": false
   },
   "outputs": [
    {
     "name": "stdout",
     "output_type": "stream",
     "text": [
      "Raw feature max vals: [  3.39000000e+08   1.00000000e+02   2.00000000e+01   2.00000000e+01\n",
      "   1.57500000e+01   0.00000000e+00   2.35000000e+01   1.00000000e+00\n",
      "   2.50000000e+01   4.20000000e+01]\n",
      "Raw feature min vals: [ 24.   1.   0.   0.   0.   0.   0.   0.  13.  42.]\n",
      "Raw feature mean vals: [  2.26494924e+07   9.34776568e+01   4.07127626e+00   3.98202806e+00\n",
      "   1.40936438e-02   0.00000000e+00   6.49731911e+00   1.58556306e-01\n",
      "   2.30570708e+01   4.20000000e+01]\n",
      "Raw feature stds: [  4.93288879e+07   2.24788304e+01   2.10829459e+00   2.17877619e+00\n",
      "   1.74351238e-01   0.00000000e+00   1.69935778e+00   2.20900887e-01\n",
      "   2.74772698e+00   0.00000000e+00]\n",
      "NaNs: [0 0 0 0 0 0 0 0 0 0]\n",
      "Infinities: [0 0 0 0 0 0 0 0 0 0]\n"
     ]
    }
   ],
   "source": [
    "# old_opts = np.get_printoptions()\n",
    "# np.set_printoptions(threshold=np.nan)\n",
    "\n",
    "print(\"Raw feature max vals: {0}\".format(np.max(X_raw, axis=0)))\n",
    "print(\"Raw feature min vals: {0}\".format(np.min(X_raw, axis=0)))\n",
    "print(\"Raw feature mean vals: {0}\".format(np.mean(X_raw, axis=0)))\n",
    "print(\"Raw feature stds: {0}\".format(np.std(X_raw, axis=0)))\n",
    "\n",
    "print(\"NaNs: {0}\".format(np.sum(np.isnan(X_raw), axis=0)))\n",
    "print(\"Infinities: {0}\".format(np.sum(np.isinf(X_raw), axis=0)))\n",
    "\n",
    "# np.set_printoptions(**old_opts)"
   ]
  },
  {
   "cell_type": "code",
   "execution_count": 16,
   "metadata": {
    "collapsed": false
   },
   "outputs": [
    {
     "name": "stdout",
     "output_type": "stream",
     "text": [
      "[-0.77989972 -0.77989972 -0.17124558 ...,  0.58752018  0.24041326\n",
      " -0.05640984]\n",
      "[ 1.93966831  1.93966831  0.37219353 ...,  1.16820207  0.68798874\n",
      "  0.4059836 ]\n"
     ]
    }
   ],
   "source": [
    "import sklearn\n",
    "from sklearn import preprocessing\n",
    "\n",
    "ranges = np.max(X_raw, axis=0) - np.min(X_raw, axis=0)\n",
    "# Avoid divisions by zero\n",
    "ranges[ranges == 0] = 1.0\n",
    "X = (X_raw - np.mean(X_raw, axis=0)) / ranges\n",
    "X = preprocessing.scale(X)\n",
    "print(np.mean(X, axis=1))\n",
    "print(np.std(X, axis=1))\n",
    "\n",
    "# No scaling needed for y.\n",
    "y = y_raw\n",
    "\n",
    "X, y = sklearn.utils.shuffle(X, y)"
   ]
  },
  {
   "cell_type": "code",
   "execution_count": 21,
   "metadata": {
    "collapsed": false
   },
   "outputs": [
    {
     "name": "stdout",
     "output_type": "stream",
     "text": [
      "We have 455 positive labels.\n",
      "We have 43093 negative labels.\n"
     ]
    }
   ],
   "source": [
    "pos_count = np.sum(y == 1)\n",
    "neg_count = np.sum(y == 0)\n",
    "print(\"We have {0} positive labels.\".format(pos_count))\n",
    "print(\"We have {0} negative labels.\".format(neg_count))"
   ]
  },
  {
   "cell_type": "markdown",
   "metadata": {},
   "source": [
    "## Train/validation split with slicing wizardry"
   ]
  },
  {
   "cell_type": "code",
   "execution_count": 46,
   "metadata": {
    "collapsed": false
   },
   "outputs": [
    {
     "name": "stdout",
     "output_type": "stream",
     "text": [
      "68\n",
      "68\n",
      "Training:\n",
      "(43412, 10)\n",
      "(43412,)\n",
      "Validation:\n",
      "(136, 10)\n",
      "(136,)\n",
      "68 68 136\n"
     ]
    }
   ],
   "source": [
    "# Use a much smaller ratio of negative to positive samples in the validation\n",
    "# set, for more accurate validation results.\n",
    "VALIDATION_NEG_TO_POS_RATIO = 1\n",
    "\n",
    "pos_count_valid = int(pos_count * 0.15)\n",
    "neg_count_valid = pos_count_valid * VALIDATION_NEG_TO_POS_RATIO\n",
    "\n",
    "# Indexes of positive rows to use for validation.\n",
    "# This witchcraft isolates the indexes of the first 'pos_count_valid' rows\n",
    "# with positive labels in the training data.\n",
    "y_pos_ind = (y == 1)\n",
    "y_pos_counts = np.cumsum(y_pos_ind)\n",
    "y_pos_lim = np.where(y_pos_counts == (pos_count_valid + 1))[0][0]\n",
    "y_pos_ind[y_pos_lim:] = False\n",
    "\n",
    "# This bit does the same but for the first 'neg_count_valid' rows with negative\n",
    "# labels.\n",
    "y_neg_ind = (y == 0)\n",
    "y_neg_counts = np.cumsum(y_neg_ind)\n",
    "y_neg_lim = np.where(y_neg_counts == (neg_count_valid + 1))[0][0]\n",
    "y_neg_ind[y_neg_lim:] = False\n",
    "\n",
    "# Make sure that there's no overlap, which would signify that we messed something\n",
    "# up with the slicing/indexing.\n",
    "assert np.sum(y_pos_ind & y_neg_ind) == 0\n",
    "\n",
    "X_valid = X[y_pos_ind | y_neg_ind]\n",
    "y_valid = y[y_pos_ind | y_neg_ind]\n",
    "\n",
    "X_train = X[~(y_pos_ind | y_neg_ind)]\n",
    "y_train = y[~(y_pos_ind | y_neg_ind)]\n",
    "\n",
    "# Just some manual extra checks.\n",
    "# TODO(andrei): Label better or remove.\n",
    "print(np.sum(y_pos_ind))\n",
    "print(np.sum(y_neg_ind))\n",
    "print(\"Training:\")\n",
    "print(X_train.shape)\n",
    "print(y_train.shape)\n",
    "print(\"Validation:\")\n",
    "print(X_valid.shape)\n",
    "print(y_valid.shape)\n",
    "print(pos_count_valid, neg_count_valid, pos_count_valid + neg_count_valid)"
   ]
  },
  {
   "cell_type": "markdown",
   "metadata": {},
   "source": [
    "## Linear SVC"
   ]
  },
  {
   "cell_type": "code",
   "execution_count": 63,
   "metadata": {
    "collapsed": false
   },
   "outputs": [
    {
     "name": "stdout",
     "output_type": "stream",
     "text": [
      "[ 0.70336251  0.68217411  0.45508982  0.7245509   0.75886688  0.69569224\n",
      "  0.77931352  0.60668203  0.87373272  0.67119816]\n",
      "0.695066288152\n"
     ]
    }
   ],
   "source": [
    "from sklearn.cross_validation import cross_val_score\n",
    "from sklearn.linear_model import SGDClassifier\n",
    "from sklearn.metrics import *\n",
    "from sklearn.svm import SVC, SVR, LinearSVC, LinearSVR\n",
    "\n",
    "\n",
    "# The \"class_weight='balanced'\" param tells the SVM to give adaptive weights\n",
    "# to the labels from each class, in order to account for imbalanced data.\n",
    "\n",
    "scores = cross_val_score(SGDClassifier(class_weight='balanced'), X_train, y_train, cv=10)\n",
    "# scores = cross_val_score(LinearSVC(class_weight='balanced'), X_train, y_train, cv=5)\n",
    "print(scores)\n",
    "print(np.mean(scores))"
   ]
  },
  {
   "cell_type": "code",
   "execution_count": 132,
   "metadata": {
    "collapsed": false
   },
   "outputs": [
    {
     "data": {
      "text/plain": [
       "SGDClassifier(alpha=0.5, average=False, class_weight='balanced', epsilon=0.1,\n",
       "       eta0=0.0, fit_intercept=True, l1_ratio=0.15,\n",
       "       learning_rate='optimal', loss='hinge', n_iter=5, n_jobs=1,\n",
       "       penalty='l2', power_t=0.5, random_state=None, shuffle=True,\n",
       "       verbose=0, warm_start=False)"
      ]
     },
     "execution_count": 132,
     "metadata": {},
     "output_type": "execute_result"
    }
   ],
   "source": [
    "lin_clf = SGDClassifier(class_weight='balanced', alpha=0.5)\n",
    "# lin_clf = LinearSVC() -> validation accuracy 0.5 !!\n",
    "lin_clf.fit(X_train, y_train)"
   ]
  },
  {
   "cell_type": "code",
   "execution_count": 165,
   "metadata": {
    "collapsed": false,
    "scrolled": false
   },
   "outputs": [
    {
     "name": "stdout",
     "output_type": "stream",
     "text": [
      "Validation data shape: (136, 10)\n",
      "Validation data neg:pos ratio: 1\n",
      "Validation accuracy: 0.7794117647058824\n",
      "[[62  6]\n",
      " [24 44]]\n"
     ]
    }
   ],
   "source": [
    "score = lin_clf.score(X_valid, y_valid)\n",
    "y_valid_predicted = lin_clf.predict(X_valid)\n",
    "\n",
    "print(\"Validation data shape: {0}\".format(X_valid.shape))\n",
    "print(\"Validation data neg:pos ratio: {0}\".format(VALIDATION_NEG_TO_POS_RATIO))\n",
    "print(\"Validation accuracy: {0}\".format(score))\n",
    "\n",
    "print(confusion_matrix(y_valid, y_valid_predicted))"
   ]
  },
  {
   "cell_type": "markdown",
   "metadata": {},
   "source": [
    "### Grid search for Linear SVM (SGDClassifier)"
   ]
  },
  {
   "cell_type": "code",
   "execution_count": 91,
   "metadata": {
    "collapsed": false
   },
   "outputs": [],
   "source": [
    "from operator import itemgetter\n",
    "\n",
    "def report(grid_scores, n_top=3):\n",
    "    top_scores = sorted(grid_scores, key=itemgetter(1), reverse=True)[:n_top]\n",
    "    for i, score in enumerate(top_scores):\n",
    "        print(\"[{0}] Mean validation score: {1:.3f} (std: {2:.3f}): {3}\".format(\n",
    "              i,\n",
    "              score.mean_validation_score,\n",
    "              np.std(score.cv_validation_scores),\n",
    "              score.parameters))"
   ]
  },
  {
   "cell_type": "code",
   "execution_count": 155,
   "metadata": {
    "collapsed": false
   },
   "outputs": [],
   "source": [
    "from sklearn.grid_search import GridSearchCV\n",
    "\n",
    "pg_lin = {\n",
    "    'alpha': [0.0005, 0.001, 0.01, 0.05, 0.1, 0.5, 0.75],\n",
    "    'loss': ['hinge', 'log'],\n",
    "    'penalty': ['l1', 'l2', 'elasticnet'],\n",
    "#     'n_iter': [5, 10, 25]\n",
    "}\n",
    "\n",
    "# Simple cross-validation doesn't work well out of the box, as our data is very imbalanced.\n",
    "score_on_validation = lambda est, xx_ignore, yy_ignore: est.score(X_valid, y_valid)\n",
    "gs_lin = GridSearchCV(lin_clf, pg_lin, cv=None, scoring=score_on_validation)"
   ]
  },
  {
   "cell_type": "code",
   "execution_count": 156,
   "metadata": {
    "collapsed": false
   },
   "outputs": [
    {
     "data": {
      "text/plain": [
       "GridSearchCV(cv=None, error_score='raise',\n",
       "       estimator=SGDClassifier(alpha=0.5, average=False, class_weight='balanced', epsilon=0.1,\n",
       "       eta0=0.0, fit_intercept=True, l1_ratio=0.15,\n",
       "       learning_rate='optimal', loss='hinge', n_iter=5, n_jobs=1,\n",
       "       penalty='l2', power_t=0.5, random_state=None, shuffle=True,\n",
       "       verbose=0, warm_start=False),\n",
       "       fit_params={}, iid=True, n_jobs=1,\n",
       "       param_grid={'penalty': ['l1', 'l2', 'elasticnet'], 'loss': ['hinge', 'log'], 'alpha': [0.0005, 0.001, 0.01, 0.05, 0.1, 0.5, 0.75]},\n",
       "       pre_dispatch='2*n_jobs', refit=True,\n",
       "       scoring=<function <lambda> at 0x112497510>, verbose=0)"
      ]
     },
     "execution_count": 156,
     "metadata": {},
     "output_type": "execute_result"
    }
   ],
   "source": [
    "gs_lin.fit(X_train, y_train)"
   ]
  },
  {
   "cell_type": "code",
   "execution_count": 157,
   "metadata": {
    "collapsed": false
   },
   "outputs": [
    {
     "name": "stdout",
     "output_type": "stream",
     "text": [
      "[0] Mean validation score: 0.779 (std: 0.000): {'penalty': 'elasticnet', 'loss': 'hinge', 'alpha': 0.1}\n",
      "[1] Mean validation score: 0.779 (std: 0.000): {'penalty': 'l1', 'loss': 'log', 'alpha': 0.1}\n",
      "[2] Mean validation score: 0.777 (std: 0.003): {'penalty': 'l1', 'loss': 'hinge', 'alpha': 0.05}\n",
      "[3] Mean validation score: 0.777 (std: 0.003): {'penalty': 'l2', 'loss': 'hinge', 'alpha': 0.5}\n",
      "[4] Mean validation score: 0.775 (std: 0.003): {'penalty': 'l1', 'loss': 'hinge', 'alpha': 0.1}\n",
      "[5] Mean validation score: 0.772 (std: 0.006): {'penalty': 'elasticnet', 'loss': 'hinge', 'alpha': 0.5}\n",
      "[6] Mean validation score: 0.772 (std: 0.006): {'penalty': 'l2', 'loss': 'hinge', 'alpha': 0.05}\n",
      "[7] Mean validation score: 0.772 (std: 0.006): {'penalty': 'elasticnet', 'loss': 'log', 'alpha': 0.1}\n",
      "[8] Mean validation score: 0.770 (std: 0.007): {'penalty': 'l2', 'loss': 'log', 'alpha': 0.01}\n",
      "[9] Mean validation score: 0.767 (std: 0.003): {'penalty': 'elasticnet', 'loss': 'hinge', 'alpha': 0.05}\n",
      "[10] Mean validation score: 0.765 (std: 0.006): {'penalty': 'elasticnet', 'loss': 'log', 'alpha': 0.05}\n",
      "[11] Mean validation score: 0.765 (std: 0.006): {'penalty': 'l2', 'loss': 'hinge', 'alpha': 0.1}\n",
      "[12] Mean validation score: 0.760 (std: 0.023): {'penalty': 'l1', 'loss': 'log', 'alpha': 0.01}\n",
      "[13] Mean validation score: 0.760 (std: 0.009): {'penalty': 'l2', 'loss': 'log', 'alpha': 0.5}\n",
      "[14] Mean validation score: 0.757 (std: 0.006): {'penalty': 'l2', 'loss': 'log', 'alpha': 0.1}\n",
      "[15] Mean validation score: 0.757 (std: 0.016): {'penalty': 'l2', 'loss': 'hinge', 'alpha': 0.01}\n",
      "[16] Mean validation score: 0.755 (std: 0.018): {'penalty': 'elasticnet', 'loss': 'hinge', 'alpha': 0.01}\n",
      "[17] Mean validation score: 0.750 (std: 0.010): {'penalty': 'elasticnet', 'loss': 'log', 'alpha': 0.01}\n",
      "[18] Mean validation score: 0.750 (std: 0.021): {'penalty': 'elasticnet', 'loss': 'hinge', 'alpha': 0.75}\n",
      "[19] Mean validation score: 0.748 (std: 0.012): {'penalty': 'l1', 'loss': 'log', 'alpha': 0.0005}\n",
      "[20] Mean validation score: 0.748 (std: 0.007): {'penalty': 'l2', 'loss': 'log', 'alpha': 0.05}\n",
      "[21] Mean validation score: 0.748 (std: 0.031): {'penalty': 'l1', 'loss': 'hinge', 'alpha': 0.01}\n",
      "[22] Mean validation score: 0.740 (std: 0.023): {'penalty': 'l1', 'loss': 'log', 'alpha': 0.05}\n",
      "[23] Mean validation score: 0.740 (std: 0.018): {'penalty': 'l1', 'loss': 'log', 'alpha': 0.001}\n",
      "[24] Mean validation score: 0.738 (std: 0.024): {'penalty': 'l2', 'loss': 'log', 'alpha': 0.001}\n",
      "[25] Mean validation score: 0.733 (std: 0.031): {'penalty': 'l2', 'loss': 'hinge', 'alpha': 0.001}\n",
      "[26] Mean validation score: 0.733 (std: 0.034): {'penalty': 'elasticnet', 'loss': 'log', 'alpha': 0.001}\n",
      "[27] Mean validation score: 0.725 (std: 0.043): {'penalty': 'l1', 'loss': 'hinge', 'alpha': 0.001}\n",
      "[28] Mean validation score: 0.708 (std: 0.039): {'penalty': 'l2', 'loss': 'hinge', 'alpha': 0.0005}\n",
      "[29] Mean validation score: 0.708 (std: 0.052): {'penalty': 'l1', 'loss': 'hinge', 'alpha': 0.0005}\n",
      "[30] Mean validation score: 0.706 (std: 0.026): {'penalty': 'elasticnet', 'loss': 'log', 'alpha': 0.0005}\n",
      "[31] Mean validation score: 0.696 (std: 0.043): {'penalty': 'l2', 'loss': 'log', 'alpha': 0.0005}\n",
      "[32] Mean validation score: 0.679 (std: 0.127): {'penalty': 'l2', 'loss': 'hinge', 'alpha': 0.75}\n",
      "[33] Mean validation score: 0.676 (std: 0.125): {'penalty': 'elasticnet', 'loss': 'log', 'alpha': 0.75}\n",
      "[34] Mean validation score: 0.669 (std: 0.120): {'penalty': 'l2', 'loss': 'log', 'alpha': 0.75}\n",
      "[35] Mean validation score: 0.657 (std: 0.085): {'penalty': 'elasticnet', 'loss': 'hinge', 'alpha': 0.001}\n",
      "[36] Mean validation score: 0.625 (std: 0.090): {'penalty': 'elasticnet', 'loss': 'hinge', 'alpha': 0.0005}\n",
      "[37] Mean validation score: 0.591 (std: 0.133): {'penalty': 'elasticnet', 'loss': 'log', 'alpha': 0.5}\n",
      "[38] Mean validation score: 0.578 (std: 0.111): {'penalty': 'l1', 'loss': 'hinge', 'alpha': 0.75}\n",
      "[39] Mean validation score: 0.500 (std: 0.000): {'penalty': 'l1', 'loss': 'hinge', 'alpha': 0.5}\n",
      "[40] Mean validation score: 0.500 (std: 0.000): {'penalty': 'l1', 'loss': 'log', 'alpha': 0.5}\n",
      "[41] Mean validation score: 0.500 (std: 0.000): {'penalty': 'l1', 'loss': 'log', 'alpha': 0.75}\n"
     ]
    }
   ],
   "source": [
    "report(gs_lin.grid_scores_, n_top=250)"
   ]
  },
  {
   "cell_type": "markdown",
   "metadata": {},
   "source": [
    "## Nonlinear SVC"
   ]
  },
  {
   "cell_type": "code",
   "execution_count": 158,
   "metadata": {
    "collapsed": false
   },
   "outputs": [
    {
     "name": "stdout",
     "output_type": "stream",
     "text": [
      "[ 0.73822412  0.72889554  0.74798434  0.72736697  0.72920986]\n",
      "0.734336164025\n"
     ]
    }
   ],
   "source": [
    "nonlinear_svm = SVC(kernel='rbf', class_weight='balanced', C=0.1)\n",
    "nonlinear_svm_scores = cross_val_score(nonlinear_svm, X_train, y_train, cv=3)\n",
    "print(nonlinear_svm_scores)\n",
    "print(np.mean(nonlinear_svm_scores))"
   ]
  },
  {
   "cell_type": "code",
   "execution_count": 159,
   "metadata": {
    "collapsed": false
   },
   "outputs": [
    {
     "data": {
      "text/plain": [
       "SVC(C=0.1, cache_size=200, class_weight='balanced', coef0=0.0,\n",
       "  decision_function_shape=None, degree=3, gamma='auto', kernel='rbf',\n",
       "  max_iter=-1, probability=False, random_state=None, shrinking=True,\n",
       "  tol=0.001, verbose=False)"
      ]
     },
     "execution_count": 159,
     "metadata": {},
     "output_type": "execute_result"
    }
   ],
   "source": [
    "nonlin_clf = nonlinear_svm\n",
    "nonlin_clf.fit(X_train, y_train)"
   ]
  },
  {
   "cell_type": "code",
   "execution_count": 164,
   "metadata": {
    "collapsed": false
   },
   "outputs": [
    {
     "name": "stdout",
     "output_type": "stream",
     "text": [
      "Validation data shape: (136, 10)\n",
      "Validation data neg:pos ratio: 1\n",
      "Validation accuracy: 0.7720588235294118\n",
      "[[52 16]\n",
      " [15 53]]\n"
     ]
    }
   ],
   "source": [
    "score = nonlin_clf.score(X_valid, y_valid)\n",
    "y_valid_predicted = nonlin_clf.predict(X_valid)\n",
    "\n",
    "print(\"Validation data shape: {0}\".format(X_valid.shape))\n",
    "print(\"Validation data neg:pos ratio: {0}\".format(VALIDATION_NEG_TO_POS_RATIO))\n",
    "print(\"Validation accuracy: {0}\".format(score))\n",
    "\n",
    "print(confusion_matrix(y_valid, y_valid_predicted))"
   ]
  },
  {
   "cell_type": "markdown",
   "metadata": {},
   "source": [
    "### Grid search for kernelized SVM"
   ]
  },
  {
   "cell_type": "code",
   "execution_count": 167,
   "metadata": {
    "collapsed": true
   },
   "outputs": [],
   "source": [
    "pg_nonlin = {\n",
    "    'C': [0.0005, 0.001, 0.01, 0.05, 0.1, 0.5, 0.75],\n",
    "}\n",
    "\n",
    "gs_nonlin = GridSearchCV(nonlin_clf, pg_nonlin, cv=None, scoring=score_on_validation)"
   ]
  },
  {
   "cell_type": "code",
   "execution_count": 168,
   "metadata": {
    "collapsed": false
   },
   "outputs": [
    {
     "data": {
      "text/plain": [
       "GridSearchCV(cv=None, error_score='raise',\n",
       "       estimator=SVC(C=0.1, cache_size=200, class_weight='balanced', coef0=0.0,\n",
       "  decision_function_shape=None, degree=3, gamma='auto', kernel='rbf',\n",
       "  max_iter=-1, probability=False, random_state=None, shrinking=True,\n",
       "  tol=0.001, verbose=False),\n",
       "       fit_params={}, iid=True, n_jobs=1,\n",
       "       param_grid={'C': [0.0005, 0.001, 0.01, 0.05, 0.1, 0.5, 0.75]},\n",
       "       pre_dispatch='2*n_jobs', refit=True,\n",
       "       scoring=<function <lambda> at 0x112497510>, verbose=0)"
      ]
     },
     "execution_count": 168,
     "metadata": {},
     "output_type": "execute_result"
    }
   ],
   "source": [
    "gs_nonlin.fit(X_train, y_train)"
   ]
  },
  {
   "cell_type": "markdown",
   "metadata": {},
   "source": [
    "Top results from nonlinear SVM grid search (rbf kernel, default settings, checked on 15% validation data set, biased for 1:1 pos/neg labels.\n",
    "\n",
    "```\n",
    "[0] Mean validation score: 0.779 (std: 0.000): {'penalty': 'elasticnet', 'loss': 'hinge', 'alpha': 0.1}\n",
    "[1] Mean validation score: 0.779 (std: 0.000): {'penalty': 'l1', 'loss': 'log', 'alpha': 0.1}\n",
    "[2] Mean validation score: 0.777 (std: 0.003): {'penalty': 'l1', 'loss': 'hinge', 'alpha': 0.05}\n",
    "[3] Mean validation score: 0.777 (std: 0.003): {'penalty': 'l2', 'loss': 'hinge', 'alpha': 0.5}\n",
    "[4] Mean validation score: 0.775 (std: 0.003): {'penalty': 'l1', 'loss': 'hinge', 'alpha': 0.1}\n",
    "[5] Mean validation score: 0.772 (std: 0.006): {'penalty': 'elasticnet', 'loss': 'hinge', 'alpha': 0.5}\n",
    "[6] Mean validation score: 0.772 (std: 0.006): {'penalty': 'l2', 'loss': 'hinge', 'alpha': 0.05}\n",
    "[7] Mean validation score: 0.772 (std: 0.006): {'penalty': 'elasticnet', 'loss': 'log', 'alpha': 0.1}\n",
    "[8] Mean validation score: 0.770 (std: 0.007): {'penalty': 'l2', 'loss': 'log', 'alpha': 0.01}\n",
    "[9] Mean validation score: 0.767 (std: 0.003): {'penalty': 'elasticnet', 'loss': 'hinge', 'alpha': 0.05}\n",
    "[10] Mean validation score: 0.765 (std: 0.006): {'penalty': 'elasticnet', 'loss': 'log', 'alpha': 0.05}\n",
    "```"
   ]
  },
  {
   "cell_type": "code",
   "execution_count": 170,
   "metadata": {
    "collapsed": false,
    "scrolled": true
   },
   "outputs": [
    {
     "name": "stdout",
     "output_type": "stream",
     "text": [
      "[0] Mean validation score: 0.779 (std: 0.000): {'penalty': 'elasticnet', 'loss': 'hinge', 'alpha': 0.1}\n",
      "[1] Mean validation score: 0.779 (std: 0.000): {'penalty': 'l1', 'loss': 'log', 'alpha': 0.1}\n",
      "[2] Mean validation score: 0.777 (std: 0.003): {'penalty': 'l1', 'loss': 'hinge', 'alpha': 0.05}\n",
      "[3] Mean validation score: 0.777 (std: 0.003): {'penalty': 'l2', 'loss': 'hinge', 'alpha': 0.5}\n",
      "[4] Mean validation score: 0.775 (std: 0.003): {'penalty': 'l1', 'loss': 'hinge', 'alpha': 0.1}\n",
      "[5] Mean validation score: 0.772 (std: 0.006): {'penalty': 'elasticnet', 'loss': 'hinge', 'alpha': 0.5}\n",
      "[6] Mean validation score: 0.772 (std: 0.006): {'penalty': 'l2', 'loss': 'hinge', 'alpha': 0.05}\n",
      "[7] Mean validation score: 0.772 (std: 0.006): {'penalty': 'elasticnet', 'loss': 'log', 'alpha': 0.1}\n",
      "[8] Mean validation score: 0.770 (std: 0.007): {'penalty': 'l2', 'loss': 'log', 'alpha': 0.01}\n",
      "[9] Mean validation score: 0.767 (std: 0.003): {'penalty': 'elasticnet', 'loss': 'hinge', 'alpha': 0.05}\n",
      "[10] Mean validation score: 0.765 (std: 0.006): {'penalty': 'elasticnet', 'loss': 'log', 'alpha': 0.05}\n",
      "[11] Mean validation score: 0.765 (std: 0.006): {'penalty': 'l2', 'loss': 'hinge', 'alpha': 0.1}\n",
      "[12] Mean validation score: 0.760 (std: 0.023): {'penalty': 'l1', 'loss': 'log', 'alpha': 0.01}\n",
      "[13] Mean validation score: 0.760 (std: 0.009): {'penalty': 'l2', 'loss': 'log', 'alpha': 0.5}\n",
      "[14] Mean validation score: 0.757 (std: 0.006): {'penalty': 'l2', 'loss': 'log', 'alpha': 0.1}\n",
      "[15] Mean validation score: 0.757 (std: 0.016): {'penalty': 'l2', 'loss': 'hinge', 'alpha': 0.01}\n",
      "[16] Mean validation score: 0.755 (std: 0.018): {'penalty': 'elasticnet', 'loss': 'hinge', 'alpha': 0.01}\n",
      "[17] Mean validation score: 0.750 (std: 0.010): {'penalty': 'elasticnet', 'loss': 'log', 'alpha': 0.01}\n",
      "[18] Mean validation score: 0.750 (std: 0.021): {'penalty': 'elasticnet', 'loss': 'hinge', 'alpha': 0.75}\n",
      "[19] Mean validation score: 0.748 (std: 0.012): {'penalty': 'l1', 'loss': 'log', 'alpha': 0.0005}\n",
      "[20] Mean validation score: 0.748 (std: 0.007): {'penalty': 'l2', 'loss': 'log', 'alpha': 0.05}\n",
      "[21] Mean validation score: 0.748 (std: 0.031): {'penalty': 'l1', 'loss': 'hinge', 'alpha': 0.01}\n",
      "[22] Mean validation score: 0.740 (std: 0.023): {'penalty': 'l1', 'loss': 'log', 'alpha': 0.05}\n",
      "[23] Mean validation score: 0.740 (std: 0.018): {'penalty': 'l1', 'loss': 'log', 'alpha': 0.001}\n",
      "[24] Mean validation score: 0.738 (std: 0.024): {'penalty': 'l2', 'loss': 'log', 'alpha': 0.001}\n",
      "[25] Mean validation score: 0.733 (std: 0.031): {'penalty': 'l2', 'loss': 'hinge', 'alpha': 0.001}\n",
      "[26] Mean validation score: 0.733 (std: 0.034): {'penalty': 'elasticnet', 'loss': 'log', 'alpha': 0.001}\n",
      "[27] Mean validation score: 0.725 (std: 0.043): {'penalty': 'l1', 'loss': 'hinge', 'alpha': 0.001}\n",
      "[28] Mean validation score: 0.708 (std: 0.039): {'penalty': 'l2', 'loss': 'hinge', 'alpha': 0.0005}\n",
      "[29] Mean validation score: 0.708 (std: 0.052): {'penalty': 'l1', 'loss': 'hinge', 'alpha': 0.0005}\n",
      "[30] Mean validation score: 0.706 (std: 0.026): {'penalty': 'elasticnet', 'loss': 'log', 'alpha': 0.0005}\n",
      "[31] Mean validation score: 0.696 (std: 0.043): {'penalty': 'l2', 'loss': 'log', 'alpha': 0.0005}\n",
      "[32] Mean validation score: 0.679 (std: 0.127): {'penalty': 'l2', 'loss': 'hinge', 'alpha': 0.75}\n",
      "[33] Mean validation score: 0.676 (std: 0.125): {'penalty': 'elasticnet', 'loss': 'log', 'alpha': 0.75}\n",
      "[34] Mean validation score: 0.669 (std: 0.120): {'penalty': 'l2', 'loss': 'log', 'alpha': 0.75}\n",
      "[35] Mean validation score: 0.657 (std: 0.085): {'penalty': 'elasticnet', 'loss': 'hinge', 'alpha': 0.001}\n",
      "[36] Mean validation score: 0.625 (std: 0.090): {'penalty': 'elasticnet', 'loss': 'hinge', 'alpha': 0.0005}\n",
      "[37] Mean validation score: 0.591 (std: 0.133): {'penalty': 'elasticnet', 'loss': 'log', 'alpha': 0.5}\n",
      "[38] Mean validation score: 0.578 (std: 0.111): {'penalty': 'l1', 'loss': 'hinge', 'alpha': 0.75}\n",
      "[39] Mean validation score: 0.500 (std: 0.000): {'penalty': 'l1', 'loss': 'hinge', 'alpha': 0.5}\n",
      "[40] Mean validation score: 0.500 (std: 0.000): {'penalty': 'l1', 'loss': 'log', 'alpha': 0.5}\n",
      "[41] Mean validation score: 0.500 (std: 0.000): {'penalty': 'l1', 'loss': 'log', 'alpha': 0.75}\n"
     ]
    }
   ],
   "source": [
    "report(gs_lin.grid_scores_, n_top=250)"
   ]
  },
  {
   "cell_type": "markdown",
   "metadata": {},
   "source": [
    "## Old metrics code"
   ]
  },
  {
   "cell_type": "code",
   "execution_count": null,
   "metadata": {
    "collapsed": false
   },
   "outputs": [],
   "source": [
    "def train_metrics(clf, X, y):\n",
    "    clf.fit(X, y)\n",
    "    y_pred = clf.predict(X)\n",
    "    print(average_precision_score(y, y_pred, average='micro'))\n",
    "    print(average_precision_score(y, y_pred, average='macro'))\n",
    "    print(average_precision_score(y, y_pred, average='weighted'))\n",
    "#     print(\"F1:        {0:.4f}\".format(f1_score(y, y_pred, pos_label='true\\n')))\n",
    "#     print(\"Precision: {0:.4f}\".format(precision_score(y, y_pred)))\n",
    "#     print(\"Accuracy:  {0:.4f}\".format(accuracy_score(y, y_pred)))\n",
    "    print(\"Confusion matrix:\")\n",
    "    print(confusion_matrix(y, y_pred, labels=None))"
   ]
  },
  {
   "cell_type": "code",
   "execution_count": null,
   "metadata": {
    "collapsed": false
   },
   "outputs": [],
   "source": [
    "# pred_y = clf.predict(X)\n",
    "#clf = SGDClassifier(class_weight='balanced')\n",
    "train_metrics(LinearSVC(class_weight='balanced'), X, y_raw)"
   ]
  },
  {
   "cell_type": "code",
   "execution_count": null,
   "metadata": {
    "collapsed": false
   },
   "outputs": [],
   "source": [
    "train_metrics(SVC(kernel='rbf', class_weight='balanced'), X, y_raw)"
   ]
  }
 ],
 "metadata": {
  "kernelspec": {
   "display_name": "Python 3",
   "language": "python",
   "name": "python3"
  },
  "language_info": {
   "codemirror_mode": {
    "name": "ipython",
    "version": 3
   },
   "file_extension": ".py",
   "mimetype": "text/x-python",
   "name": "python",
   "nbconvert_exporter": "python",
   "pygments_lexer": "ipython3",
   "version": "3.5.1"
  }
 },
 "nbformat": 4,
 "nbformat_minor": 0
}
